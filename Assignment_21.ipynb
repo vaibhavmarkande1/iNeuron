{
 "cells": [
  {
   "cell_type": "markdown",
   "id": "b71754b4",
   "metadata": {},
   "source": [
    "Add the current date to the text file today.txt as a string."
   ]
  },
  {
   "cell_type": "code",
   "execution_count": 1,
   "id": "fffc0bcb",
   "metadata": {},
   "outputs": [],
   "source": [
    "from datetime import date\n",
    "\n",
    "today = date.today().strftime(\"%Y-%m-%d\")\n",
    "\n",
    "with open(\"today.txt\", \"a\") as f:\n",
    "    f.write(today + \"\\n\")"
   ]
  },
  {
   "cell_type": "markdown",
   "id": "7c09f3dd",
   "metadata": {},
   "source": [
    "Read the text file today.txt into the string today_string"
   ]
  },
  {
   "cell_type": "code",
   "execution_count": 2,
   "id": "a2252594",
   "metadata": {},
   "outputs": [
    {
     "name": "stdout",
     "output_type": "stream",
     "text": [
      "2023-05-01\n",
      "\n"
     ]
    }
   ],
   "source": [
    "with open(\"today.txt\", \"r\") as f:\n",
    "    today_string = f.read()\n",
    "\n",
    "print(today_string)"
   ]
  },
  {
   "cell_type": "markdown",
   "id": "2c7b450a",
   "metadata": {},
   "source": [
    "Parse the date from today_string."
   ]
  },
  {
   "cell_type": "code",
   "execution_count": 4,
   "id": "ba38218a",
   "metadata": {},
   "outputs": [
    {
     "name": "stdout",
     "output_type": "stream",
     "text": [
      "2023-05-01 00:00:00\n"
     ]
    }
   ],
   "source": [
    "from datetime import datetime\n",
    "\n",
    "date_obj = datetime.strptime(today_string.strip(), \"%Y-%m-%d\")\n",
    "\n",
    "print(date_obj)"
   ]
  },
  {
   "cell_type": "code",
   "execution_count": 5,
   "id": "ec3f3724",
   "metadata": {},
   "outputs": [
    {
     "name": "stdout",
     "output_type": "stream",
     "text": [
      "2023-05-01\n"
     ]
    }
   ],
   "source": [
    "date_obj = datetime.strptime(today_string.strip(), \"%Y-%m-%d\").date()\n",
    "\n",
    "print(date_obj)"
   ]
  },
  {
   "cell_type": "markdown",
   "id": "f40e0bd9",
   "metadata": {},
   "source": [
    "List the files in your current directory"
   ]
  },
  {
   "cell_type": "code",
   "execution_count": 6,
   "id": "42af20f0",
   "metadata": {},
   "outputs": [
    {
     "name": "stdout",
     "output_type": "stream",
     "text": [
      "['.ipynb_checkpoints', 'Assignment_1.docx', 'Assignment_10.docx', 'Assignment_11.docx', 'Assignment_12.docx', 'Assignment_13.docx', 'Assignment_14.docx', 'Assignment_15.ipynb', 'Assignment_16.ipynb', 'Assignment_17.ipynb', 'Assignment_18.ipynb', 'Assignment_19.ipynb', 'Assignment_2.docx', 'Assignment_20.ipynb', 'Assignment_21.ipynb', 'Assignment_3.docx', 'Assignment_4.docx', 'Assignment_5.docx', 'Assignment_6.docx', 'Assignment_7.docx', 'Assignment_8.docx', 'Assignment_9.docx', 'books.db', 'Programming_Assignment10.ipynb', 'Programming_Assignment11.ipynb', 'Programming_Assignment12.ipynb', 'Programming_Assignment13.ipynb', 'Programming_Assignment14.ipynb', 'Programming_Assignment15.ipynb', 'Programming_Assignment16.ipynb', 'Programming_Assignment7.ipynb', 'Programming_Assignment8.ipynb', 'Programming_Assignment9.ipynb', 'Programming_Assingment1.docx', 'Programming_Assingment2.docx', 'Programming_Assingment3.docx', 'Programming_Assingment4.docx', 'Programming_Assingment5.docx', 'Programming_Assingment6.ipynb', 'today.txt', 'zoo.py.txt', '~$signment_5.docx', '~$signment_7.docx']\n"
     ]
    }
   ],
   "source": [
    "import os\n",
    "\n",
    "files = os.listdir(\".\")\n",
    "\n",
    "print(files)"
   ]
  },
  {
   "cell_type": "markdown",
   "id": "3586decf",
   "metadata": {},
   "source": [
    "Create a list of all of the files in your parent directory (minimum five files should be available)."
   ]
  },
  {
   "cell_type": "code",
   "execution_count": 7,
   "id": "405a0892",
   "metadata": {},
   "outputs": [
    {
     "name": "stdout",
     "output_type": "stream",
     "text": [
      "['Web Scrapping.ipynb']\n"
     ]
    }
   ],
   "source": [
    "import os\n",
    "\n",
    "parent_dir = os.path.abspath(os.path.join(os.getcwd(), \"..\"))\n",
    "\n",
    "files = [f for f in os.listdir(parent_dir) if os.path.isfile(os.path.join(parent_dir, f))]\n",
    "\n",
    "print(files)"
   ]
  },
  {
   "cell_type": "markdown",
   "id": "95d52162",
   "metadata": {},
   "source": [
    "Use multiprocessing to create three separate processes. Make each one wait a random number of\n",
    "seconds between one and five, print the current time, and then exit."
   ]
  },
  {
   "cell_type": "code",
   "execution_count": 8,
   "id": "ad4fc2f9",
   "metadata": {},
   "outputs": [],
   "source": [
    "import multiprocessing\n",
    "import time\n",
    "from datetime import datetime\n",
    "import random\n",
    "\n",
    "def worker():\n",
    "    time.sleep(random.randint(1, 5))\n",
    "\n",
    "    print(datetime.now())\n",
    "\n",
    "if __name__ == '__main__':\n",
    "    processes = []\n",
    "    for i in range(3):\n",
    "        p = multiprocessing.Process(target=worker)\n",
    "        processes.append(p)\n",
    "        p.start()\n",
    "\n",
    "    for p in processes:\n",
    "        p.join()"
   ]
  },
  {
   "cell_type": "markdown",
   "id": "b1019378",
   "metadata": {},
   "source": [
    "Create a date object of your day of birth."
   ]
  },
  {
   "cell_type": "code",
   "execution_count": 10,
   "id": "bf15fa23",
   "metadata": {},
   "outputs": [
    {
     "name": "stdout",
     "output_type": "stream",
     "text": [
      "1990-03-09\n"
     ]
    }
   ],
   "source": [
    "from datetime import date\n",
    "\n",
    "birth_date = date(1990, 3, 9)\n",
    "\n",
    "print(birth_date)"
   ]
  },
  {
   "cell_type": "markdown",
   "id": "ba175a3e",
   "metadata": {},
   "source": [
    "What day of the week was your day of birth?"
   ]
  },
  {
   "cell_type": "code",
   "execution_count": 11,
   "id": "97a7b21a",
   "metadata": {},
   "outputs": [
    {
     "name": "stdout",
     "output_type": "stream",
     "text": [
      "Friday\n"
     ]
    }
   ],
   "source": [
    "from datetime import date\n",
    "\n",
    "birth_date = date(1990, 3, 9)\n",
    "\n",
    "day_of_week = birth_date.strftime(\"%A\")\n",
    "\n",
    "print(day_of_week)"
   ]
  },
  {
   "cell_type": "markdown",
   "id": "88a5f45e",
   "metadata": {},
   "source": [
    "When will you be (or when were you) 10,000 days old?"
   ]
  },
  {
   "cell_type": "code",
   "execution_count": 12,
   "id": "978b8fe1",
   "metadata": {},
   "outputs": [
    {
     "name": "stdout",
     "output_type": "stream",
     "text": [
      "2017-07-25\n"
     ]
    }
   ],
   "source": [
    "from datetime import date, timedelta\n",
    "\n",
    "birth_date = date(1990, 3, 9)\n",
    "\n",
    "days_to_10000 = timedelta(days=10000) - (date.today() - birth_date)\n",
    "\n",
    "ten_thousandth_day = date.today() + days_to_10000\n",
    "\n",
    "print(ten_thousandth_day)"
   ]
  }
 ],
 "metadata": {
  "kernelspec": {
   "display_name": "Python 3 (ipykernel)",
   "language": "python",
   "name": "python3"
  },
  "language_info": {
   "codemirror_mode": {
    "name": "ipython",
    "version": 3
   },
   "file_extension": ".py",
   "mimetype": "text/x-python",
   "name": "python",
   "nbconvert_exporter": "python",
   "pygments_lexer": "ipython3",
   "version": "3.9.12"
  }
 },
 "nbformat": 4,
 "nbformat_minor": 5
}
