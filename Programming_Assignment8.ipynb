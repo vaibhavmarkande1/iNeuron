{
 "cells": [
  {
   "cell_type": "markdown",
   "id": "c133c1ca",
   "metadata": {},
   "source": [
    "# 1. Write a Python Program to Add Two Matrices?"
   ]
  },
  {
   "cell_type": "code",
   "execution_count": 2,
   "id": "c5518316",
   "metadata": {},
   "outputs": [
    {
     "name": "stdout",
     "output_type": "stream",
     "text": [
      "[11, 13, 15]\n",
      "[17, 19, 21]\n",
      "[23, 25, 27]\n"
     ]
    }
   ],
   "source": [
    "matrix1 = [[1, 2, 3], [4, 5, 6], [7, 8, 9]]\n",
    "matrix2 = [[10, 11, 12], [13, 14, 15], [16, 17, 18]]\n",
    "\n",
    "result = [[0, 0, 0], [0, 0, 0], [0, 0, 0]]\n",
    "\n",
    "for i in range(len(matrix1)):\n",
    "    for j in range(len(matrix1[0])):\n",
    "        result[i][j] = matrix1[i][j] + matrix2[i][j]\n",
    "\n",
    "for r in result:\n",
    "    print(r)\n"
   ]
  },
  {
   "cell_type": "markdown",
   "id": "0aa43112",
   "metadata": {},
   "source": [
    "# 2. Write a Python Program to Multiply Two Matrices?"
   ]
  },
  {
   "cell_type": "code",
   "execution_count": 3,
   "id": "ea079c96",
   "metadata": {},
   "outputs": [
    {
     "name": "stdout",
     "output_type": "stream",
     "text": [
      "[19, 22]\n",
      "[43, 50]\n"
     ]
    }
   ],
   "source": [
    "matrix1 = [[1, 2], [3, 4]]\n",
    "matrix2 = [[5, 6], [7, 8]]\n",
    "\n",
    "result = [[0, 0], [0, 0]]\n",
    "\n",
    "for i in range(len(matrix1)):\n",
    "    for j in range(len(matrix2[0])):\n",
    "        for k in range(len(matrix2)):\n",
    "            result[i][j] += matrix1[i][k] * matrix2[k][j]\n",
    "\n",
    "for r in result:\n",
    "    print(r)\n"
   ]
  },
  {
   "cell_type": "markdown",
   "id": "2255c5a5",
   "metadata": {},
   "source": [
    "# 3. Write a Python Program to Transpose a Matrix?"
   ]
  },
  {
   "cell_type": "code",
   "execution_count": 4,
   "id": "b46e7c41",
   "metadata": {},
   "outputs": [
    {
     "name": "stdout",
     "output_type": "stream",
     "text": [
      "Original matrix:\n",
      "[1, 2]\n",
      "[3, 4]\n",
      "[5, 6]\n",
      "Transpose matrix:\n",
      "[1, 3, 5]\n",
      "[2, 4, 6]\n"
     ]
    }
   ],
   "source": [
    "matrix = [[1, 2], [3, 4], [5, 6]]\n",
    "\n",
    "transpose = [[0, 0, 0], [0, 0, 0]]\n",
    "\n",
    "for i in range(len(matrix)):\n",
    "    for j in range(len(matrix[0])):\n",
    "        transpose[j][i] = matrix[i][j]\n",
    "\n",
    "print(\"Original matrix:\")\n",
    "for r in matrix:\n",
    "    print(r)\n",
    "\n",
    "print(\"Transpose matrix:\")\n",
    "for r in transpose:\n",
    "    print(r)\n"
   ]
  },
  {
   "cell_type": "markdown",
   "id": "4a565fb0",
   "metadata": {},
   "source": [
    "# 4. Write a Python Program to Sort Words in Alphabetic Order?"
   ]
  },
  {
   "cell_type": "code",
   "execution_count": 5,
   "id": "dbb5770d",
   "metadata": {},
   "outputs": [
    {
     "name": "stdout",
     "output_type": "stream",
     "text": [
      "Enter words separated by spaces: my name is Abhishek\n",
      "Sorted words:\n",
      "Abhishek\n",
      "is\n",
      "my\n",
      "name\n"
     ]
    }
   ],
   "source": [
    "words = input(\"Enter words separated by spaces: \").split()\n",
    "\n",
    "words.sort()\n",
    "\n",
    "print(\"Sorted words:\")\n",
    "for word in words:\n",
    "    print(word)\n"
   ]
  },
  {
   "cell_type": "markdown",
   "id": "d5663169",
   "metadata": {},
   "source": [
    "# 5. Write a Python Program to Remove Punctuation From a String?"
   ]
  },
  {
   "cell_type": "code",
   "execution_count": null,
   "id": "4d06f281",
   "metadata": {},
   "outputs": [],
   "source": [
    "import string\n",
    "\n",
    "text = input(\"Enter a string: \")\n",
    "\n",
    "no_punct = text.translate(str.maketrans(\"\", \"\", string.punctuation))\n",
    "\n",
    "print(\"String without punctuation:\")\n",
    "print(no_punct)"
   ]
  }
 ],
 "metadata": {
  "kernelspec": {
   "display_name": "Python 3 (ipykernel)",
   "language": "python",
   "name": "python3"
  },
  "language_info": {
   "codemirror_mode": {
    "name": "ipython",
    "version": 3
   },
   "file_extension": ".py",
   "mimetype": "text/x-python",
   "name": "python",
   "nbconvert_exporter": "python",
   "pygments_lexer": "ipython3",
   "version": "3.9.12"
  }
 },
 "nbformat": 4,
 "nbformat_minor": 5
}
