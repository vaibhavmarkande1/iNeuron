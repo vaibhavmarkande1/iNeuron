{
 "cells": [
  {
   "cell_type": "markdown",
   "id": "43017277",
   "metadata": {},
   "source": [
    "# 1. Write a Python program to Extract Unique values dictionary values?"
   ]
  },
  {
   "cell_type": "code",
   "execution_count": 1,
   "id": "21bdd2df",
   "metadata": {},
   "outputs": [
    {
     "name": "stdout",
     "output_type": "stream",
     "text": [
      "Unique values in the dictionary: [1, 2, 3]\n"
     ]
    }
   ],
   "source": [
    "my_dict = {'a': 1, 'b': 2, 'c': 3, 'd': 2, 'e': 1}\n",
    "\n",
    "unique_values = list(set(my_dict.values()))\n",
    "\n",
    "print(\"Unique values in the dictionary:\", unique_values)\n"
   ]
  },
  {
   "cell_type": "markdown",
   "id": "be830904",
   "metadata": {},
   "source": [
    "# 2. Write a Python program to find the sum of all items in a dictionary?"
   ]
  },
  {
   "cell_type": "code",
   "execution_count": 2,
   "id": "bdfc87ef",
   "metadata": {},
   "outputs": [
    {
     "name": "stdout",
     "output_type": "stream",
     "text": [
      "Sum of all items in the dictionary: 60\n"
     ]
    }
   ],
   "source": [
    "my_dict = {'a': 10, 'b': 20, 'c': 30}\n",
    "\n",
    "sum_values = sum(my_dict.values())\n",
    "\n",
    "print(\"Sum of all items in the dictionary:\", sum_values)"
   ]
  },
  {
   "cell_type": "markdown",
   "id": "080f41a8",
   "metadata": {},
   "source": [
    "# 3. Write a Python program to Merging two Dictionaries?"
   ]
  },
  {
   "cell_type": "code",
   "execution_count": 3,
   "id": "d03d2fd5",
   "metadata": {},
   "outputs": [
    {
     "name": "stdout",
     "output_type": "stream",
     "text": [
      "Merged dictionary: {'a': 1, 'b': 2, 'c': 3, 'd': 4}\n"
     ]
    }
   ],
   "source": [
    "dict1 = {'a': 1, 'b': 2}\n",
    "dict2 = {'c': 3, 'd': 4}\n",
    "\n",
    "merged_dict = dict1.copy()\n",
    "merged_dict.update(dict2)\n",
    "\n",
    "print(\"Merged dictionary:\", merged_dict)"
   ]
  },
  {
   "cell_type": "markdown",
   "id": "b6742fbf",
   "metadata": {},
   "source": [
    "# 4. Write a Python program to convert key-values list to flat dictionary?"
   ]
  },
  {
   "cell_type": "code",
   "execution_count": 4,
   "id": "61336513",
   "metadata": {},
   "outputs": [
    {
     "name": "stdout",
     "output_type": "stream",
     "text": [
      "Flat dictionary: {'a': 1, 'b': 2, 'c': 3, 'd': 4}\n"
     ]
    }
   ],
   "source": [
    "key_values = [['a', 1], ['b', 2], ['c', 3], ['d', 4]]\n",
    "\n",
    "flat_dict = {key: value for key, value in key_values}\n",
    "\n",
    "print(\"Flat dictionary:\", flat_dict)"
   ]
  },
  {
   "cell_type": "markdown",
   "id": "500a0961",
   "metadata": {},
   "source": [
    "# 5. Write a Python program to insertion at the beginning in OrderedDict?"
   ]
  },
  {
   "cell_type": "code",
   "execution_count": 5,
   "id": "7e4945eb",
   "metadata": {},
   "outputs": [
    {
     "name": "stdout",
     "output_type": "stream",
     "text": [
      "Updated ordered dictionary: OrderedDict([('d', 4), ('a', 1), ('b', 2), ('c', 3)])\n"
     ]
    }
   ],
   "source": [
    "from collections import OrderedDict\n",
    "\n",
    "ordered_dict = OrderedDict([('a', 1), ('b', 2), ('c', 3)])\n",
    "\n",
    "ordered_dict.update({'d': 4})\n",
    "ordered_dict.move_to_end('d', last=False)\n",
    "\n",
    "print(\"Updated ordered dictionary:\", ordered_dict)"
   ]
  },
  {
   "cell_type": "markdown",
   "id": "9ed895cf",
   "metadata": {},
   "source": [
    "# 6. Write a Python program to check order of character in string using OrderedDict()?"
   ]
  },
  {
   "cell_type": "code",
   "execution_count": 6,
   "id": "29610907",
   "metadata": {},
   "outputs": [
    {
     "name": "stdout",
     "output_type": "stream",
     "text": [
      "helo wrd"
     ]
    }
   ],
   "source": [
    "from collections import OrderedDict\n",
    "\n",
    "input_str = 'hello world'\n",
    "ordered_dict = OrderedDict.fromkeys(input_str)\n",
    "\n",
    "for key in ordered_dict:\n",
    "    if key in input_str:\n",
    "        print(key, end='')"
   ]
  },
  {
   "cell_type": "markdown",
   "id": "e2821bca",
   "metadata": {},
   "source": [
    "# 7. Write a Python program to sort Python Dictionaries by Key or Value?"
   ]
  },
  {
   "cell_type": "code",
   "execution_count": 7,
   "id": "8749943b",
   "metadata": {},
   "outputs": [
    {
     "name": "stdout",
     "output_type": "stream",
     "text": [
      "Original dictionary: {'apple': 10, 'banana': 5, 'orange': 20, 'pear': 15}\n",
      "Dictionary sorted by key: {'apple': 10, 'banana': 5, 'orange': 20, 'pear': 15}\n",
      "Dictionary sorted by value: {'banana': 5, 'apple': 10, 'pear': 15, 'orange': 20}\n"
     ]
    }
   ],
   "source": [
    "unsorted_dict = {'apple': 10, 'banana': 5, 'orange': 20, 'pear': 15}\n",
    "\n",
    "sorted_dict_by_key = dict(sorted(unsorted_dict.items()))\n",
    "\n",
    "sorted_dict_by_value = dict(sorted(unsorted_dict.items(), key=lambda item: item[1]))\n",
    "\n",
    "print(\"Original dictionary:\", unsorted_dict)\n",
    "print(\"Dictionary sorted by key:\", sorted_dict_by_key)\n",
    "print(\"Dictionary sorted by value:\", sorted_dict_by_value)"
   ]
  }
 ],
 "metadata": {
  "kernelspec": {
   "display_name": "Python 3 (ipykernel)",
   "language": "python",
   "name": "python3"
  },
  "language_info": {
   "codemirror_mode": {
    "name": "ipython",
    "version": 3
   },
   "file_extension": ".py",
   "mimetype": "text/x-python",
   "name": "python",
   "nbconvert_exporter": "python",
   "pygments_lexer": "ipython3",
   "version": "3.9.12"
  }
 },
 "nbformat": 4,
 "nbformat_minor": 5
}
