{
 "cells": [
  {
   "cell_type": "markdown",
   "id": "994ea73c",
   "metadata": {},
   "source": [
    "1) . What is the difference between enclosing a list comprehension in square brackets and\n",
    "parentheses?"
   ]
  },
  {
   "cell_type": "markdown",
   "id": "20a0c243",
   "metadata": {},
   "source": [
    "Enclosing a list comprehension in square brackets produces a list, while enclosing it in parentheses produces a generator object.\n",
    "\n",
    "A list comprehension is an iterable that creates a new list by evaluating each item in a sequence or iterable. When enclosed in square brackets, the comprehension is executed immediately, and a list is created.\n",
    "\n",
    "On the other hand, when enclosed in parentheses, the comprehension is not executed immediately but instead returns a generator object. A generator is a lazy iterable that generates values on-the-fly as they are needed, rather than computing all values upfront like a list. This can be more memory-efficient, especially for large datasets, as the values are not all stored in memory at once."
   ]
  },
  {
   "cell_type": "code",
   "execution_count": null,
   "id": "8c86f68e",
   "metadata": {},
   "outputs": [],
   "source": []
  },
  {
   "cell_type": "markdown",
   "id": "537e24fc",
   "metadata": {},
   "source": [
    "2) What is the relationship between generators and iterators?"
   ]
  },
  {
   "cell_type": "markdown",
   "id": "c58b409b",
   "metadata": {},
   "source": [
    "In Python, a generator is a special type of iterator. Both generators and iterators are used to generate a sequence of values. However, while an iterator generates values one at a time, a generator generates values on-the-fly, as they are requested.\n",
    "\n",
    "Iterators are objects that implement the iterator protocol, which requires the implementation of the __iter__ and __next__ methods. An iterator can be used to traverse a sequence of values, but it is typically used in a loop or with the next() built-in function.\n",
    "\n",
    "Generators are a simpler way of creating iterators, and are defined using a special syntax using the yield keyword. When a generator function is called, it returns a generator object, which can be used to iterate through the generated sequence of values using a loop or the next() function. The generator function can be thought of as a factory for producing generator objects.\n",
    "\n",
    "In summary, generators are a type of iterator, but they are a more convenient way to create iterators in Python."
   ]
  },
  {
   "cell_type": "code",
   "execution_count": null,
   "id": "9a97d549",
   "metadata": {},
   "outputs": [],
   "source": []
  },
  {
   "cell_type": "markdown",
   "id": "92550048",
   "metadata": {},
   "source": [
    "3) What are the signs that a function is a generator function?"
   ]
  },
  {
   "cell_type": "markdown",
   "id": "63cfb1a7",
   "metadata": {},
   "source": [
    "A function is a generator function if it uses the yield statement at least once in its body. The presence of yield keyword in a function definition indicates that the function is a generator function, and that it returns an iterator instead of a value. When a generator function is called, it returns a generator object which can be iterated over using the next() function or a for loop. The values are generated on-the-fly and are not precomputed, which allows for efficient processing of large datasets."
   ]
  },
  {
   "cell_type": "code",
   "execution_count": null,
   "id": "0e9ace9a",
   "metadata": {},
   "outputs": [],
   "source": []
  },
  {
   "cell_type": "markdown",
   "id": "3576c4ff",
   "metadata": {},
   "source": [
    "4) What is the purpose of a yield statement?"
   ]
  },
  {
   "cell_type": "markdown",
   "id": "f98a9142",
   "metadata": {},
   "source": [
    "The yield statement in Python is used in generator functions to produce a sequence of values instead of returning a single value and terminating the function's execution. When a generator function is called, it returns an iterator, which can be used to iterate over the sequence of values produced by the yield statement. The yield statement not only returns a value but also saves the state of the function so that it can resume its execution from where it left off the next time it is called. This makes it possible to produce a potentially infinite sequence of values using a finite amount of memory."
   ]
  },
  {
   "cell_type": "code",
   "execution_count": null,
   "id": "6b99de0b",
   "metadata": {},
   "outputs": [],
   "source": []
  },
  {
   "cell_type": "markdown",
   "id": "037f8424",
   "metadata": {},
   "source": [
    "5) What is the relationship between map calls and list comprehensions? Make a comparison and\n",
    "contrast between the two."
   ]
  },
  {
   "cell_type": "markdown",
   "id": "ead955a5",
   "metadata": {},
   "source": [
    "Map calls and list comprehensions are two ways to perform functional programming in Python.\n",
    "\n",
    "Map is a built-in function in Python that takes two or more arguments: a function and one or more iterable objects. It applies the function to every element of the iterable object(s) and returns an iterator object that yields the result of the function applied to each element. The resulting iterator object can be converted into a list or tuple using list() or tuple() functions respectively.\n",
    "\n",
    "List comprehensions are a concise way to create a new list by applying an expression to each element of an iterable object. The resulting list is constructed by wrapping the expression in square brackets and placing a for loop after it that iterates over the iterable object(s) and applies the expression to each element.\n",
    "\n",
    "Both map calls and list comprehensions allow for functional programming and can be used to transform data in similar ways. However, list comprehensions are often more concise and easier to read, while map calls are more flexible and can handle more complex operations.\n",
    "\n",
    "One notable difference between the two is that list comprehensions return a list object, while map calls return an iterator object. List comprehensions can also include conditional statements for filtering elements, whereas map calls require a separate filter() function to achieve the same effect.\n",
    "\n",
    "Overall, the choice between map calls and list comprehensions depends on the specific use case and personal preference."
   ]
  }
 ],
 "metadata": {
  "kernelspec": {
   "display_name": "Python 3 (ipykernel)",
   "language": "python",
   "name": "python3"
  },
  "language_info": {
   "codemirror_mode": {
    "name": "ipython",
    "version": 3
   },
   "file_extension": ".py",
   "mimetype": "text/x-python",
   "name": "python",
   "nbconvert_exporter": "python",
   "pygments_lexer": "ipython3",
   "version": "3.9.12"
  }
 },
 "nbformat": 4,
 "nbformat_minor": 5
}
