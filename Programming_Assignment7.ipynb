{
 "cells": [
  {
   "cell_type": "markdown",
   "id": "d28049ef",
   "metadata": {},
   "source": [
    "# 1. Write a Python Program to find sum of array?"
   ]
  },
  {
   "cell_type": "code",
   "execution_count": 4,
   "id": "44058c18",
   "metadata": {},
   "outputs": [
    {
     "name": "stdout",
     "output_type": "stream",
     "text": [
      "15\n"
     ]
    }
   ],
   "source": [
    "def sum_array(arr):\n",
    "    sum = 0\n",
    "    \n",
    "    for num in arr:\n",
    "        sum += num\n",
    "        \n",
    "    return sum\n",
    "\n",
    "my_array = [1, 2, 3, 4, 5]\n",
    "array_sum = sum_array(my_array)\n",
    "print(array_sum)"
   ]
  },
  {
   "cell_type": "markdown",
   "id": "34811c50",
   "metadata": {},
   "source": [
    "# 2. Write a Python Program to find largest element in an array?"
   ]
  },
  {
   "cell_type": "code",
   "execution_count": 5,
   "id": "8a5b79b5",
   "metadata": {},
   "outputs": [
    {
     "name": "stdout",
     "output_type": "stream",
     "text": [
      "30\n"
     ]
    }
   ],
   "source": [
    "def find_largest(arr):\n",
    "    largest = arr[0]\n",
    "\n",
    "    for num in arr:\n",
    "        if num > largest:\n",
    "            largest = num\n",
    "        \n",
    "    return largest\n",
    "\n",
    "my_array = [10, 5, 20, 15, 30]\n",
    "largest_num = find_largest(my_array)\n",
    "print(largest_num)"
   ]
  },
  {
   "cell_type": "markdown",
   "id": "a52a69be",
   "metadata": {},
   "source": [
    "# 3. Write a Python Program for array rotation?"
   ]
  },
  {
   "cell_type": "code",
   "execution_count": 7,
   "id": "4bd26874",
   "metadata": {},
   "outputs": [
    {
     "name": "stdout",
     "output_type": "stream",
     "text": [
      "[5, 1, 2, 3, 4]\n"
     ]
    }
   ],
   "source": [
    "def rotate_array(arr, num_rotations):\n",
    "    num_rotations = num_rotations % len(arr)\n",
    "    \n",
    "    rotated_arr = arr[num_rotations:] + arr[:num_rotations]\n",
    "    \n",
    "    return rotated_arr\n",
    "\n",
    "\n",
    "my_array = [1, 2, 3, 4, 5]\n",
    "num_rotations = 4\n",
    "rotated_array = rotate_array(my_array, num_rotations)\n",
    "print(rotated_array)\n"
   ]
  },
  {
   "cell_type": "markdown",
   "id": "1bcb8d79",
   "metadata": {},
   "source": [
    "# 4. Write a Python Program to Split the array and add the first part to the end?"
   ]
  },
  {
   "cell_type": "code",
   "execution_count": 8,
   "id": "5ad09b60",
   "metadata": {},
   "outputs": [
    {
     "name": "stdout",
     "output_type": "stream",
     "text": [
      "[3, 4, 5, 1, 2]\n"
     ]
    }
   ],
   "source": [
    "def split_and_add(arr, split_index):\n",
    "    first_part = arr[:split_index]\n",
    "    second_part = arr[split_index:]\n",
    "    \n",
    "    new_arr = second_part + first_part\n",
    "    \n",
    "    return new_arr\n",
    "\n",
    "my_array = [1, 2, 3, 4, 5]\n",
    "split_index = 2\n",
    "new_array = split_and_add(my_array, split_index)\n",
    "print(new_array)"
   ]
  },
  {
   "cell_type": "markdown",
   "id": "d1d8038b",
   "metadata": {},
   "source": [
    "# 5. Write a Python Program to check if given array is Monotonic?"
   ]
  },
  {
   "cell_type": "code",
   "execution_count": 9,
   "id": "fe663914",
   "metadata": {},
   "outputs": [
    {
     "name": "stdout",
     "output_type": "stream",
     "text": [
      "True\n",
      "True\n",
      "False\n"
     ]
    }
   ],
   "source": [
    "def is_monotonic(arr):\n",
    "    increasing = True\n",
    "    decreasing = True\n",
    "    \n",
    "    for i in range(1, len(arr)):\n",
    "        if arr[i] > arr[i-1]:\n",
    "            decreasing = False\n",
    "        elif arr[i] < arr[i-1]:\n",
    "            increasing = False\n",
    "        \n",
    "        if not increasing and not decreasing:\n",
    "            return False\n",
    "    \n",
    "    return True\n",
    "\n",
    "\n",
    "my_array = [1, 2, 3, 4, 5]\n",
    "print(is_monotonic(my_array))\n",
    "\n",
    "my_array = [5, 4, 3, 2, 1]\n",
    "print(is_monotonic(my_array))\n",
    "\n",
    "my_array = [1, 2, 3, 2, 5]\n",
    "print(is_monotonic(my_array))\n"
   ]
  }
 ],
 "metadata": {
  "kernelspec": {
   "display_name": "Python 3 (ipykernel)",
   "language": "python",
   "name": "python3"
  },
  "language_info": {
   "codemirror_mode": {
    "name": "ipython",
    "version": 3
   },
   "file_extension": ".py",
   "mimetype": "text/x-python",
   "name": "python",
   "nbconvert_exporter": "python",
   "pygments_lexer": "ipython3",
   "version": "3.9.12"
  }
 },
 "nbformat": 4,
 "nbformat_minor": 5
}
