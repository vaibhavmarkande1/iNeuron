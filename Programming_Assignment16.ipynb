{
 "cells": [
  {
   "cell_type": "markdown",
   "id": "49138d05",
   "metadata": {},
   "source": [
    "Write a function that stutters a word as if someone is struggling to read it. The\n",
    "first two letters are repeated twice with an ellipsis ... and space after each, and then the\n",
    "word is pronounced with a question mark ?."
   ]
  },
  {
   "cell_type": "code",
   "execution_count": 4,
   "id": "761f6028",
   "metadata": {},
   "outputs": [],
   "source": [
    "def stutter(word):\n",
    "    if len(word) < 2:\n",
    "        raise ValueError(\"Word must have at least 2 characters\")\n",
    "\n",
    "    first_two_letters = word[:2]\n",
    "    return (first_two_letters + \"... \") * 2 + word + \"?\""
   ]
  },
  {
   "cell_type": "markdown",
   "id": "1fdf05d1",
   "metadata": {},
   "source": [
    "2.Create a function that takes an angle in radians and returns the corresponding\n",
    "angle in degrees rounded to one decimal place."
   ]
  },
  {
   "cell_type": "code",
   "execution_count": 5,
   "id": "4441ee83",
   "metadata": {},
   "outputs": [],
   "source": [
    "import math\n",
    "\n",
    "def radians_to_degrees(angle_rad):\n",
    "    angle_deg = math.degrees(angle_rad)\n",
    "    return round(angle_deg, 1)"
   ]
  },
  {
   "cell_type": "markdown",
   "id": "c01dbe6e",
   "metadata": {},
   "source": [
    "In this challenge, establish if a given integer num is a Curzon number. If 1 plus\n",
    "2 elevated to num is exactly divisible by 1 plus 2 multiplied by num, then num is a Curzon\n",
    "number.\n",
    "Given a non-negative integer num, implement a function that returns True if num is a Curzon\n",
    "number, or False otherwise."
   ]
  },
  {
   "cell_type": "code",
   "execution_count": 6,
   "id": "b70babd9",
   "metadata": {},
   "outputs": [],
   "source": [
    "def is_curzon_number(num):\n",
    "    numerator = 2 ** num + 1\n",
    "    denominator = 2 * num + 1\n",
    "    return numerator % denominator == 0"
   ]
  },
  {
   "cell_type": "code",
   "execution_count": 15,
   "id": "7be6ed2b",
   "metadata": {},
   "outputs": [
    {
     "name": "stdout",
     "output_type": "stream",
     "text": [
      "True\n",
      "False\n",
      "True\n"
     ]
    }
   ],
   "source": [
    "print(is_curzon_number(5))\n",
    "print(is_curzon_number(10))\n",
    "print(is_curzon_number(14))"
   ]
  },
  {
   "cell_type": "markdown",
   "id": "9a629574",
   "metadata": {},
   "source": [
    "4.Given the side length x find the area of a hexagon."
   ]
  },
  {
   "cell_type": "code",
   "execution_count": 12,
   "id": "18f3f32d",
   "metadata": {},
   "outputs": [],
   "source": [
    "import math\n",
    "\n",
    "def calculate_hexagon_area(x):\n",
    "    area = (3 * math.sqrt(3) * x**2) / 2\n",
    "    return area"
   ]
  },
  {
   "cell_type": "code",
   "execution_count": 14,
   "id": "c8fa3ea9",
   "metadata": {},
   "outputs": [
    {
     "name": "stdout",
     "output_type": "stream",
     "text": [
      "2.598076211353316\n",
      "10.392304845413264\n",
      "23.382685902179844\n"
     ]
    }
   ],
   "source": [
    "print(calculate_hexagon_area(1))\n",
    "print(calculate_hexagon_area(2))\n",
    "print(calculate_hexagon_area(3))"
   ]
  },
  {
   "cell_type": "markdown",
   "id": "b42a0ff2",
   "metadata": {},
   "source": [
    "Create a function that returns a base-2 (binary) representation of a base-10\n",
    "(decimal) string number. To convert is simple: ((2) means base-2 and (10) means base-10)\n",
    "010101001(2) = 1 + 8 + 32 + 128.\n",
    "Going from right to left, the value of the most right bit is 1, now from that every bit to the left\n",
    "will be x2 the value, value of an 8 bit binary numbers are (256, 128, 64, 32, 16, 8, 4, 2, 1)."
   ]
  },
  {
   "cell_type": "code",
   "execution_count": 16,
   "id": "595efbd4",
   "metadata": {},
   "outputs": [],
   "source": [
    "def decimal_to_binary(decimal):\n",
    "    binary = bin(decimal)[2:]\n",
    "    return binary"
   ]
  },
  {
   "cell_type": "code",
   "execution_count": 17,
   "id": "3f036980",
   "metadata": {},
   "outputs": [
    {
     "name": "stdout",
     "output_type": "stream",
     "text": [
      "1\n",
      "101\n",
      "1010\n"
     ]
    }
   ],
   "source": [
    "print(decimal_to_binary(1))\n",
    "print(decimal_to_binary(5))\n",
    "print(decimal_to_binary(10))"
   ]
  }
 ],
 "metadata": {
  "kernelspec": {
   "display_name": "Python 3 (ipykernel)",
   "language": "python",
   "name": "python3"
  },
  "language_info": {
   "codemirror_mode": {
    "name": "ipython",
    "version": 3
   },
   "file_extension": ".py",
   "mimetype": "text/x-python",
   "name": "python",
   "nbconvert_exporter": "python",
   "pygments_lexer": "ipython3",
   "version": "3.9.12"
  }
 },
 "nbformat": 4,
 "nbformat_minor": 5
}
