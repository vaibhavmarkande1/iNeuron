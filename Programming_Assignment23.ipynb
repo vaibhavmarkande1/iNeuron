{
 "cells": [
  {
   "cell_type": "markdown",
   "id": "8bbf9ab0",
   "metadata": {},
   "source": [
    "Question 1\n",
    "Create a function that takes a number as an argument and returns True or False depending\n",
    "on whether the number is symmetrical or not. A number is symmetrical when it is the same as\n",
    "its reverse."
   ]
  },
  {
   "cell_type": "code",
   "execution_count": 1,
   "id": "aa64a45e",
   "metadata": {},
   "outputs": [],
   "source": [
    "def is_symmetrical(num):\n",
    "    return str(num) == str(num)[::-1]"
   ]
  },
  {
   "cell_type": "code",
   "execution_count": 2,
   "id": "f3dd3b02",
   "metadata": {},
   "outputs": [
    {
     "data": {
      "text/plain": [
       "True"
      ]
     },
     "execution_count": 2,
     "metadata": {},
     "output_type": "execute_result"
    }
   ],
   "source": [
    "is_symmetrical(44444444)"
   ]
  },
  {
   "cell_type": "code",
   "execution_count": null,
   "id": "b9731552",
   "metadata": {},
   "outputs": [],
   "source": []
  },
  {
   "cell_type": "markdown",
   "id": "d9310a05",
   "metadata": {},
   "source": [
    "Question 2\n",
    "Given a string of numbers separated by a comma and space, return the product of the\n",
    "numbers."
   ]
  },
  {
   "cell_type": "code",
   "execution_count": 3,
   "id": "3d0d8a97",
   "metadata": {},
   "outputs": [],
   "source": [
    "from functools import reduce\n",
    "\n",
    "def multiply_numbers(string):\n",
    "    string_list = string.split(\", \")\n",
    "    \n",
    "    int_list = [int(s) for s in string_list]\n",
    "    \n",
    "    product = reduce(lambda x, y: x*y, int_list)\n",
    "    \n",
    "    return product"
   ]
  },
  {
   "cell_type": "code",
   "execution_count": 5,
   "id": "f3c2b2f4",
   "metadata": {},
   "outputs": [
    {
     "data": {
      "text/plain": [
       "24"
      ]
     },
     "execution_count": 5,
     "metadata": {},
     "output_type": "execute_result"
    }
   ],
   "source": [
    "multiply_numbers(\"1, 2, 3, 4\")"
   ]
  },
  {
   "cell_type": "code",
   "execution_count": null,
   "id": "494366b3",
   "metadata": {},
   "outputs": [],
   "source": []
  },
  {
   "cell_type": "markdown",
   "id": "ae83cc5f",
   "metadata": {},
   "source": [
    "Question 3\n",
    "Create a function that squares every digit of a number."
   ]
  },
  {
   "cell_type": "code",
   "execution_count": 6,
   "id": "171899ab",
   "metadata": {},
   "outputs": [],
   "source": [
    "def square_digits(num):\n",
    "    num_str = str(num)\n",
    "    squared_digits = []\n",
    "    for char in num_str:\n",
    "        digit = int(char)\n",
    "        squared_digits.append(digit**2)\n",
    "    squared_digits_str = ''.join(map(str, squared_digits))\n",
    "    return int(squared_digits_str)"
   ]
  },
  {
   "cell_type": "code",
   "execution_count": 7,
   "id": "cbbf809d",
   "metadata": {},
   "outputs": [
    {
     "data": {
      "text/plain": [
       "416649"
      ]
     },
     "execution_count": 7,
     "metadata": {},
     "output_type": "execute_result"
    }
   ],
   "source": [
    "square_digits(2483)"
   ]
  },
  {
   "cell_type": "code",
   "execution_count": null,
   "id": "46459f84",
   "metadata": {},
   "outputs": [],
   "source": []
  },
  {
   "cell_type": "markdown",
   "id": "dda161ca",
   "metadata": {},
   "source": [
    "Question 4\n",
    "Create a function that sorts a list and removes all duplicate items from it."
   ]
  },
  {
   "cell_type": "code",
   "execution_count": 8,
   "id": "9964d93d",
   "metadata": {},
   "outputs": [],
   "source": [
    "def sort_and_remove_duplicates(lst):\n",
    "    sorted_lst = sorted(lst)\n",
    "    unique_lst = list(set(sorted_lst))\n",
    "    return unique_lst"
   ]
  },
  {
   "cell_type": "code",
   "execution_count": 9,
   "id": "5a382066",
   "metadata": {},
   "outputs": [
    {
     "data": {
      "text/plain": [
       "[5, 7, 8, 9, 10, 15]"
      ]
     },
     "execution_count": 9,
     "metadata": {},
     "output_type": "execute_result"
    }
   ],
   "source": [
    "sort_and_remove_duplicates([5, 7, 8, 9, 10, 15])"
   ]
  },
  {
   "cell_type": "code",
   "execution_count": null,
   "id": "bcef8608",
   "metadata": {},
   "outputs": [],
   "source": []
  },
  {
   "cell_type": "markdown",
   "id": "2130d1fb",
   "metadata": {},
   "source": [
    "Question 5\n",
    "Create a function that returns the mean of all digits."
   ]
  },
  {
   "cell_type": "code",
   "execution_count": 10,
   "id": "174ffa5c",
   "metadata": {},
   "outputs": [],
   "source": [
    "def digit_mean(n):\n",
    "    digits = [int(d) for d in str(n) if d.isdigit()]\n",
    "    if digits:\n",
    "        return sum(digits) / len(digits)\n",
    "    else:\n",
    "        return 0"
   ]
  },
  {
   "cell_type": "code",
   "execution_count": 11,
   "id": "00728399",
   "metadata": {},
   "outputs": [
    {
     "data": {
      "text/plain": [
       "6.0"
      ]
     },
     "execution_count": 11,
     "metadata": {},
     "output_type": "execute_result"
    }
   ],
   "source": [
    "digit_mean(666)"
   ]
  }
 ],
 "metadata": {
  "kernelspec": {
   "display_name": "Python 3 (ipykernel)",
   "language": "python",
   "name": "python3"
  },
  "language_info": {
   "codemirror_mode": {
    "name": "ipython",
    "version": 3
   },
   "file_extension": ".py",
   "mimetype": "text/x-python",
   "name": "python",
   "nbconvert_exporter": "python",
   "pygments_lexer": "ipython3",
   "version": "3.9.12"
  }
 },
 "nbformat": 4,
 "nbformat_minor": 5
}
