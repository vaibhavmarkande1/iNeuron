{
 "cells": [
  {
   "cell_type": "markdown",
   "id": "c19709d9",
   "metadata": {},
   "source": [
    "1. What is the relationship between def statements and lambda expressions ?"
   ]
  },
  {
   "cell_type": "markdown",
   "id": "8316e595",
   "metadata": {},
   "source": [
    "In Python, both def statements and lambda expressions are used to define functions. The main difference between them is that def statements are used to define a named function with a block of code, whereas lambda expressions create an anonymous function object without a name.\n",
    "\n",
    "A def statement can have multiple lines of code and can contain any valid Python statement, including return statements, while a lambda expression is limited to a single expression that is returned when the function is called.\n",
    "\n",
    "def statements are more readable and flexible, while lambda expressions are more concise and can be used to create small, throwaway functions."
   ]
  },
  {
   "cell_type": "code",
   "execution_count": null,
   "id": "a9efe36c",
   "metadata": {},
   "outputs": [],
   "source": []
  },
  {
   "cell_type": "markdown",
   "id": "2777b8e9",
   "metadata": {},
   "source": [
    "2. What is the benefit of lambda?"
   ]
  },
  {
   "cell_type": "markdown",
   "id": "00286aaf",
   "metadata": {},
   "source": [
    "The primary benefit of using lambda expressions in Python is that they allow for the creation of anonymous functions, which are functions without a name. This can be useful for situations where we need to define a simple function for a short amount of time, without having to define and name a separate function. Lambda functions are also often used as arguments to higher-order functions like map(), filter(), and reduce(), which take other functions as input. Using lambda functions can make code more concise and easier to read in such situations."
   ]
  },
  {
   "cell_type": "code",
   "execution_count": null,
   "id": "3ef91edc",
   "metadata": {},
   "outputs": [],
   "source": []
  },
  {
   "cell_type": "markdown",
   "id": "071e2855",
   "metadata": {},
   "source": [
    "3. Compare and contrast map, filter, and reduce."
   ]
  },
  {
   "cell_type": "markdown",
   "id": "dec5c01f",
   "metadata": {},
   "source": [
    "map(), filter(), and reduce() are built-in Python functions that operate on iterables such as lists, tuples, and sets.\n",
    "\n",
    "map() applies a function to each item in an iterable and returns a new iterable with the results.\n",
    "\n",
    "filter() filters items in an iterable based on a Boolean condition and returns a new iterable with the items that satisfy the condition.\n",
    "\n",
    "reduce() applies a function cumulatively to items in an iterable, from left to right, so as to reduce the iterable to a single value"
   ]
  },
  {
   "cell_type": "code",
   "execution_count": null,
   "id": "2060a08e",
   "metadata": {},
   "outputs": [],
   "source": []
  },
  {
   "cell_type": "markdown",
   "id": "53e01801",
   "metadata": {},
   "source": [
    "4. What are function annotations, and how are they used?"
   ]
  },
  {
   "cell_type": "markdown",
   "id": "6a34d3ee",
   "metadata": {},
   "source": [
    "Function annotations are a feature in Python that allow programmers to associate arbitrary metadata with the parameters and return value of a function. The annotations are stored in the function's __annotations__ attribute as a dictionary where the keys are the parameter or return value names and the values are the annotations.\n",
    "\n",
    "Function annotations can be used to specify the expected data types of function arguments, as well as to provide documentation about what the function does. Annotations do not affect the behavior of the function and are purely for informational purposes.\n",
    "\n",
    "Annotations are declared using a colon after the parameter or return value name, followed by the annotation expression.\n",
    "\n",
    "In the below example, the foo function takes two arguments, x and y, with annotations int and str, respectively. The function returns a float, with an annotation of float."
   ]
  },
  {
   "cell_type": "code",
   "execution_count": 1,
   "id": "0516f0b4",
   "metadata": {},
   "outputs": [],
   "source": [
    "def foo(x: int, y: str) -> float:\n",
    "    return 3.14"
   ]
  },
  {
   "cell_type": "code",
   "execution_count": null,
   "id": "edddb9eb",
   "metadata": {},
   "outputs": [],
   "source": []
  },
  {
   "cell_type": "markdown",
   "id": "3b8a252e",
   "metadata": {},
   "source": [
    "5. What are recursive functions, and how are they used?"
   ]
  },
  {
   "cell_type": "markdown",
   "id": "4c8dad7a",
   "metadata": {},
   "source": [
    "A recursive function is a function that calls itself during its execution. Recursive functions are useful for solving problems that can be broken down into smaller, simpler problems that can be solved recursively.\n",
    "\n",
    "Recursive functions have a base case that stops the recursion and one or more recursive cases that call the function again with a smaller input. The function keeps calling itself with smaller input until it reaches the base case.\n",
    "\n",
    "Recursive functions are commonly used to solve problems related to tree or graph traversal, searching, sorting, and many other algorithms. Recursive functions can be elegant and concise, but they can also be memory-intensive and may result in stack overflow errors if not implemented properly."
   ]
  },
  {
   "cell_type": "code",
   "execution_count": null,
   "id": "e30f42d0",
   "metadata": {},
   "outputs": [],
   "source": []
  },
  {
   "cell_type": "markdown",
   "id": "6f16a8bd",
   "metadata": {},
   "source": [
    "6. What are some general design guidelines for coding functions?"
   ]
  },
  {
   "cell_type": "markdown",
   "id": "20dbfe51",
   "metadata": {},
   "source": [
    "Here are some general design guidelines for coding functions:\n",
    "\n",
    "Functions should have a single, well-defined purpose.\n",
    "Functions should be small and focused on a specific task.\n",
    "Functions should have clear and descriptive names.\n",
    "Functions should have input parameters that are well-defined and documented.\n",
    "Functions should return a value or have a clear side-effect.\n",
    "Functions should handle errors and exceptions gracefully.\n",
    "Functions should be well-documented, with clear comments that explain what the function does and how to use it.\n",
    "Functions should be tested thoroughly to ensure they work as expected."
   ]
  },
  {
   "cell_type": "code",
   "execution_count": null,
   "id": "1e15c119",
   "metadata": {},
   "outputs": [],
   "source": []
  },
  {
   "cell_type": "markdown",
   "id": "5fa73774",
   "metadata": {},
   "source": [
    "7. Name three or more ways that functions can communicate results to a caller."
   ]
  },
  {
   "cell_type": "markdown",
   "id": "29685311",
   "metadata": {},
   "source": [
    "Return statement: A function can use the return statement to send a value or an object back to the caller.\n",
    "\n",
    "Print statement: A function can use the print statement to display output to the console or the screen.\n",
    "\n",
    "Global variables: A function can modify the value of a global variable, which can then be accessed by the caller. However, this approach is generally not recommended as it can make the code harder to understand and debug."
   ]
  }
 ],
 "metadata": {
  "kernelspec": {
   "display_name": "Python 3 (ipykernel)",
   "language": "python",
   "name": "python3"
  },
  "language_info": {
   "codemirror_mode": {
    "name": "ipython",
    "version": 3
   },
   "file_extension": ".py",
   "mimetype": "text/x-python",
   "name": "python",
   "nbconvert_exporter": "python",
   "pygments_lexer": "ipython3",
   "version": "3.9.12"
  }
 },
 "nbformat": 4,
 "nbformat_minor": 5
}
