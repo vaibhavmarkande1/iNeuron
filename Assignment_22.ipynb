{
 "cells": [
  {
   "cell_type": "markdown",
   "id": "d608a3f4",
   "metadata": {},
   "source": [
    "1.What is the result of the code, and explain?\n",
    "\n",
    "&gt;&gt;&gt; X = &#39;iNeuron&#39;\n",
    "&gt;&gt;&gt; def func():\n",
    "print(X)\n",
    "\n",
    "&gt;&gt;&gt; func()"
   ]
  },
  {
   "cell_type": "markdown",
   "id": "9dfd2ef4",
   "metadata": {},
   "source": [
    "The code will print the string \"iNeuron\" when the func() function is called.\n",
    "\n",
    "The first line assigns the string \"iNeuron\" to the variable X, then defines a function named func(), which doesn't take any arguments.\n",
    "\n",
    "The body of the func() function contains a single line that prints the value of the variable X.\n",
    "\n",
    "Finally, the last line calls the func() function, which prints the value of X.\n",
    "\n",
    "Since X is defined outside of the function, it is considered a global variable and can be accessed from inside the function. Therefore, when the func() function is called, it prints the value of X, which is \"iNeuron\"."
   ]
  },
  {
   "cell_type": "code",
   "execution_count": null,
   "id": "4922138e",
   "metadata": {},
   "outputs": [],
   "source": []
  },
  {
   "cell_type": "markdown",
   "id": "b854a54b",
   "metadata": {},
   "source": [
    "2. What is the result of the code, and explain?\n",
    "\n",
    "&gt;&gt;&gt; X = &#39;iNeuron&#39;\n",
    "&gt;&gt;&gt; def func():\n",
    "X = &#39;NI!&#39;\n",
    "\n",
    "&gt;&gt;&gt; func()\n",
    "&gt;&gt;&gt; print(X)"
   ]
  },
  {
   "cell_type": "markdown",
   "id": "0793ccb0",
   "metadata": {},
   "source": [
    "The result of the code will be the string \"iNeuron\" printed to the console.\n",
    "The code defines a global variable X with the string \"iNeuron\", and a function func() that creates a local variable X with the string \"NI!\". When the func() function is called, it modifies the local X variable but doesn't return anything. The final print(X) statement prints the global X variable, which is still \"iNeuron\"."
   ]
  },
  {
   "cell_type": "code",
   "execution_count": null,
   "id": "c0420f8d",
   "metadata": {},
   "outputs": [],
   "source": []
  },
  {
   "cell_type": "markdown",
   "id": "68e8316c",
   "metadata": {},
   "source": [
    "3. What does this code print, and why?\n",
    "\n",
    "&gt;&gt;&gt; X = &#39;iNeuron&#39;\n",
    "&gt;&gt;&gt; def func():\n",
    "X = &#39;NI&#39;\n",
    "print(X)\n",
    "\n",
    "&gt;&gt;&gt; func()\n",
    "&gt;&gt;&gt; print(X)"
   ]
  },
  {
   "cell_type": "markdown",
   "id": "77231975",
   "metadata": {},
   "source": [
    "The code will print \"NI\" followed by \"iNeuron\" on two separate lines.\n",
    "The code defines a global variable X with the string \"iNeuron\", and a function func() that creates a local variable X with the string \"NI\". When the func() function is called, it prints the value of the local variable X, which is \"NI\". Then the global X variable is printed, which is still \"iNeuron\". Therefore, the output is \"NI\" followed by \"iNeuron\" on two separate lines."
   ]
  },
  {
   "cell_type": "code",
   "execution_count": null,
   "id": "eada4a9f",
   "metadata": {},
   "outputs": [],
   "source": []
  },
  {
   "cell_type": "markdown",
   "id": "0efec457",
   "metadata": {},
   "source": [
    "4. What output does this code produce? Why?\n",
    "\n",
    "&gt;&gt;&gt; X = &#39;iNeuron&#39;\n",
    "&gt;&gt;&gt; def func():\n",
    "global X\n",
    "X = &#39;NI&#39;\n",
    "\n",
    "&gt;&gt;&gt; func()\n",
    "&gt;&gt;&gt; print(X)"
   ]
  },
  {
   "cell_type": "markdown",
   "id": "977cb196",
   "metadata": {},
   "source": [
    "The code will print \"NI\" to the console.\n",
    "The code defines a global variable X with the string \"iNeuron\", and a function func() that uses the global keyword to modify the global X variable to have the string \"NI\". When the func() function is called, it modifies the global X variable. The final print(X) statement prints the modified global X variable, which is now \"NI\". Therefore, the output is \"NI\"."
   ]
  },
  {
   "cell_type": "code",
   "execution_count": null,
   "id": "6f99bfa6",
   "metadata": {},
   "outputs": [],
   "source": []
  },
  {
   "cell_type": "markdown",
   "id": "edffd712",
   "metadata": {},
   "source": [
    "5. What about this code—what’s the output, and why?\n",
    "\n",
    "&gt;&gt;&gt; X = &#39;iNeuron&#39;\n",
    "&gt;&gt;&gt; def func():\n",
    "X = &#39;NI&#39;\n",
    "def nested():\n",
    "print(X)\n",
    "nested()\n",
    "\n",
    "&gt;&gt;&gt; func()\n",
    "&gt;&gt;&gt; X"
   ]
  },
  {
   "cell_type": "markdown",
   "id": "205dcad9",
   "metadata": {},
   "source": [
    "The code will output \"NI\" followed by \"iNeuron\" on two separate lines.\n",
    "The code defines a global variable X with the string \"iNeuron\", and a function func() that creates a local variable X with the string \"NI\". The func() function also defines a nested function nested() that prints the value of the local X variable. When the func() function is called, it also calls the nested() function, which prints the local X variable value \"NI\" to the console. Finally, the global X variable is printed, which is still \"iNeuron\". Therefore, the output is \"NI\" followed by \"iNeuron\" on two separate lines."
   ]
  },
  {
   "cell_type": "code",
   "execution_count": null,
   "id": "d21c7289",
   "metadata": {},
   "outputs": [],
   "source": []
  },
  {
   "cell_type": "markdown",
   "id": "19ae26e2",
   "metadata": {},
   "source": [
    "6. How about this code: what is its output in Python 3, and explain?\n",
    "\n",
    "&gt;&gt;&gt; def func():\n",
    "X = &#39;NI&#39;\n",
    "def nested():\n",
    "nonlocal X\n",
    "X = &#39;Spam&#39;\n",
    "nested()\n",
    "print(X)\n",
    "\n",
    "&gt;&gt;&gt; func()"
   ]
  },
  {
   "cell_type": "markdown",
   "id": "84f209c5",
   "metadata": {},
   "source": [
    "The output of the code will be \"Spam\".\n",
    "The code defines a function func() with a local variable X set to \"NI\", and a nested function nested(). The nested() function uses the nonlocal keyword to modify the value of X to \"Spam\". When nested() is called from func(), it changes the value of X to \"Spam\". The print(X) statement in func() then prints \"Spam\" to the console. When func() is called, it executes the code inside and prints \"Spam\" to the console. Therefore, the output is \"Spam\"."
   ]
  }
 ],
 "metadata": {
  "kernelspec": {
   "display_name": "Python 3 (ipykernel)",
   "language": "python",
   "name": "python3"
  },
  "language_info": {
   "codemirror_mode": {
    "name": "ipython",
    "version": 3
   },
   "file_extension": ".py",
   "mimetype": "text/x-python",
   "name": "python",
   "nbconvert_exporter": "python",
   "pygments_lexer": "ipython3",
   "version": "3.9.12"
  }
 },
 "nbformat": 4,
 "nbformat_minor": 5
}
