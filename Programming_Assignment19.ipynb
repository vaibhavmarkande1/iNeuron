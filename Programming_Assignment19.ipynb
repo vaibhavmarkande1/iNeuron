{
 "cells": [
  {
   "cell_type": "markdown",
   "id": "9af5246f",
   "metadata": {},
   "source": [
    "Question1\n",
    "Create a function that takes a string and returns a string in which each character is repeated\n",
    "once."
   ]
  },
  {
   "cell_type": "code",
   "execution_count": 1,
   "id": "192f4d1b",
   "metadata": {},
   "outputs": [],
   "source": [
    "def repeat_characters(s):\n",
    "    new_string = \"\"\n",
    "    for char in s:\n",
    "        new_string += char * 2\n",
    "    return new_string"
   ]
  },
  {
   "cell_type": "code",
   "execution_count": 3,
   "id": "1f7b5bdc",
   "metadata": {},
   "outputs": [
    {
     "data": {
      "text/plain": [
       "'HHeelllloo  WWoorrlldd!!'"
      ]
     },
     "execution_count": 3,
     "metadata": {},
     "output_type": "execute_result"
    }
   ],
   "source": [
    "repeat_characters(\"Hello World!\")"
   ]
  },
  {
   "cell_type": "code",
   "execution_count": null,
   "id": "94cbbf2b",
   "metadata": {},
   "outputs": [],
   "source": []
  },
  {
   "cell_type": "markdown",
   "id": "ad9208b0",
   "metadata": {},
   "source": [
    "Question2\n",
    "Create a function that reverses a boolean value and returns the string &quot;boolean expected&quot;\n",
    "if another variable type is given."
   ]
  },
  {
   "cell_type": "code",
   "execution_count": 4,
   "id": "5ebc97c5",
   "metadata": {},
   "outputs": [],
   "source": [
    "def reverse_bool(b):\n",
    "    if type(b) == bool:\n",
    "        return not b\n",
    "    else:\n",
    "        return \"boolean expected\""
   ]
  },
  {
   "cell_type": "code",
   "execution_count": 5,
   "id": "ea355cd3",
   "metadata": {},
   "outputs": [
    {
     "data": {
      "text/plain": [
       "'boolean expected'"
      ]
     },
     "execution_count": 5,
     "metadata": {},
     "output_type": "execute_result"
    }
   ],
   "source": [
    "reverse_bool(0)"
   ]
  },
  {
   "cell_type": "code",
   "execution_count": null,
   "id": "f4e0f807",
   "metadata": {},
   "outputs": [],
   "source": []
  },
  {
   "cell_type": "markdown",
   "id": "9a1cd501",
   "metadata": {},
   "source": [
    "Question3\n",
    "Create a function that returns the thickness (in meters) of a piece of paper after folding it n\n",
    "number of times. The paper starts off with a thickness of 0.5mm."
   ]
  },
  {
   "cell_type": "code",
   "execution_count": 6,
   "id": "e2597d5c",
   "metadata": {},
   "outputs": [],
   "source": [
    "def paper_thickness(n):\n",
    "    thickness = 0.5 / 1000 \n",
    "    for i in range(n):\n",
    "        thickness *= 2\n",
    "    return thickness"
   ]
  },
  {
   "cell_type": "code",
   "execution_count": 7,
   "id": "fb0f6162",
   "metadata": {},
   "outputs": [
    {
     "data": {
      "text/plain": [
       "0.008"
      ]
     },
     "execution_count": 7,
     "metadata": {},
     "output_type": "execute_result"
    }
   ],
   "source": [
    "paper_thickness(4)"
   ]
  },
  {
   "cell_type": "code",
   "execution_count": null,
   "id": "292f2165",
   "metadata": {},
   "outputs": [],
   "source": []
  },
  {
   "cell_type": "markdown",
   "id": "000b6a10",
   "metadata": {},
   "source": [
    "Question4\n",
    "\n",
    "Create a function that takes a single string as argument and returns an ordered list containing\n",
    "the indices of all capital letters in the string."
   ]
  },
  {
   "cell_type": "code",
   "execution_count": 8,
   "id": "7c5e0e56",
   "metadata": {},
   "outputs": [],
   "source": [
    "def find_capital_indices(string):\n",
    "    capital_indices = []\n",
    "    for i in range(len(string)):\n",
    "        if string[i].isupper():\n",
    "            capital_indices.append(i)\n",
    "    return capital_indices"
   ]
  },
  {
   "cell_type": "code",
   "execution_count": 9,
   "id": "4da6495d",
   "metadata": {},
   "outputs": [
    {
     "data": {
      "text/plain": [
       "[0, 1, 2, 3, 4, 5]"
      ]
     },
     "execution_count": 9,
     "metadata": {},
     "output_type": "execute_result"
    }
   ],
   "source": [
    "find_capital_indices(\"STRIKE\")"
   ]
  },
  {
   "cell_type": "code",
   "execution_count": null,
   "id": "4cf19d29",
   "metadata": {},
   "outputs": [],
   "source": []
  },
  {
   "cell_type": "markdown",
   "id": "744ff117",
   "metadata": {},
   "source": [
    "Question5\n",
    "Using list comprehensions, create a function that finds all even numbers from 1 to the given\n",
    "number."
   ]
  },
  {
   "cell_type": "code",
   "execution_count": 10,
   "id": "f5d69750",
   "metadata": {},
   "outputs": [],
   "source": [
    "def find_even_numbers(n):\n",
    "    return [i for i in range(1, n+1) if i % 2 == 0]"
   ]
  },
  {
   "cell_type": "code",
   "execution_count": 11,
   "id": "67447768",
   "metadata": {},
   "outputs": [
    {
     "data": {
      "text/plain": [
       "[2, 4, 6, 8]"
      ]
     },
     "execution_count": 11,
     "metadata": {},
     "output_type": "execute_result"
    }
   ],
   "source": [
    "find_even_numbers(8)"
   ]
  }
 ],
 "metadata": {
  "kernelspec": {
   "display_name": "Python 3 (ipykernel)",
   "language": "python",
   "name": "python3"
  },
  "language_info": {
   "codemirror_mode": {
    "name": "ipython",
    "version": 3
   },
   "file_extension": ".py",
   "mimetype": "text/x-python",
   "name": "python",
   "nbconvert_exporter": "python",
   "pygments_lexer": "ipython3",
   "version": "3.9.12"
  }
 },
 "nbformat": 4,
 "nbformat_minor": 5
}
