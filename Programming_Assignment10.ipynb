{
 "cells": [
  {
   "cell_type": "markdown",
   "id": "11cbc069",
   "metadata": {},
   "source": [
    "# 1. Write a Python program to find sum of elements in list?"
   ]
  },
  {
   "cell_type": "code",
   "execution_count": 1,
   "id": "a3feb4b3",
   "metadata": {},
   "outputs": [
    {
     "name": "stdout",
     "output_type": "stream",
     "text": [
      "The sum of elements in [1, 2, 3, 4, 5] is: 15\n"
     ]
    }
   ],
   "source": [
    "def sum_of_list(lst):\n",
    "    sum = 0\n",
    "    for elem in lst:\n",
    "        sum += elem\n",
    "    return sum\n",
    "\n",
    "my_list = [1, 2, 3, 4, 5]\n",
    "print(f\"The sum of elements in {my_list} is: {sum_of_list(my_list)}\")"
   ]
  },
  {
   "cell_type": "markdown",
   "id": "5c40fdbf",
   "metadata": {},
   "source": [
    "# 2. Write a Python program to Multiply all numbers in the list?"
   ]
  },
  {
   "cell_type": "code",
   "execution_count": 2,
   "id": "0027bccb",
   "metadata": {},
   "outputs": [
    {
     "name": "stdout",
     "output_type": "stream",
     "text": [
      "The product of elements in [1, 2, 3, 4, 5] is: 120\n"
     ]
    }
   ],
   "source": [
    "def multiply_list(lst):\n",
    "    product = 1\n",
    "    for elem in lst:\n",
    "        product *= elem\n",
    "    return product\n",
    "\n",
    "my_list = [1, 2, 3, 4, 5]\n",
    "print(f\"The product of elements in {my_list} is: {multiply_list(my_list)}\")"
   ]
  },
  {
   "cell_type": "markdown",
   "id": "2ad0890e",
   "metadata": {},
   "source": [
    "# 3. Write a Python program to find smallest number in a list?"
   ]
  },
  {
   "cell_type": "code",
   "execution_count": 3,
   "id": "2fed62e8",
   "metadata": {},
   "outputs": [
    {
     "name": "stdout",
     "output_type": "stream",
     "text": [
      "The smallest number in [5, 2, 8, 1, 3] is: 1\n"
     ]
    }
   ],
   "source": [
    "def find_smallest(lst):\n",
    "    smallest = lst[0]\n",
    "    for elem in lst:\n",
    "        if elem < smallest:\n",
    "            smallest = elem\n",
    "    return smallest\n",
    "\n",
    "my_list = [5, 2, 8, 1, 3]\n",
    "print(f\"The smallest number in {my_list} is: {find_smallest(my_list)}\")"
   ]
  },
  {
   "cell_type": "markdown",
   "id": "190b2ac1",
   "metadata": {},
   "source": [
    "# 4. Write a Python program to find largest number in a list?"
   ]
  },
  {
   "cell_type": "code",
   "execution_count": 5,
   "id": "3f1cf00a",
   "metadata": {},
   "outputs": [
    {
     "name": "stdout",
     "output_type": "stream",
     "text": [
      "The largest number in [5, 2, 8, 1, 3] is: 8\n"
     ]
    }
   ],
   "source": [
    "def find_largest(lst):\n",
    "    \n",
    "    largest = lst[0]\n",
    "    for elem in lst:\n",
    "        if elem > largest:\n",
    "            largest = elem\n",
    "    return largest\n",
    "\n",
    "my_list = [5, 2, 8, 1, 3]\n",
    "print(f\"The largest number in {my_list} is: {find_largest(my_list)}\")"
   ]
  },
  {
   "cell_type": "markdown",
   "id": "de75598e",
   "metadata": {},
   "source": [
    "# 5. Write a Python program to find second largest number in a list?"
   ]
  },
  {
   "cell_type": "code",
   "execution_count": 6,
   "id": "1dd7bb46",
   "metadata": {},
   "outputs": [
    {
     "name": "stdout",
     "output_type": "stream",
     "text": [
      "The second largest number in [5, 2, 8, 1, 3] is: 5\n"
     ]
    }
   ],
   "source": [
    "def find_second_largest(lst):\n",
    "    largest = max(lst[0], lst[1])\n",
    "    second_largest = min(lst[0], lst[1])\n",
    "    for elem in lst[2:]:\n",
    "        if elem > largest:\n",
    "            second_largest = largest\n",
    "            largest = elem\n",
    "        elif elem > second_largest:\n",
    "            second_largest = elem\n",
    "    return second_largest\n",
    "\n",
    "my_list = [5, 2, 8, 1, 3]\n",
    "print(f\"The second largest number in {my_list} is: {find_second_largest(my_list)}\")\n"
   ]
  },
  {
   "cell_type": "markdown",
   "id": "9fb947b2",
   "metadata": {},
   "source": [
    "# 6. Write a Python program to find N largest elements from a list?"
   ]
  },
  {
   "cell_type": "code",
   "execution_count": 7,
   "id": "2f0c15eb",
   "metadata": {},
   "outputs": [
    {
     "name": "stdout",
     "output_type": "stream",
     "text": [
      "The 3 largest numbers in [5, 2, 8, 1, 3, 9, 7] are: [9, 8, 7]\n"
     ]
    }
   ],
   "source": [
    "def find_n_largest(lst, n):\n",
    "    \n",
    "    largest_numbers = []\n",
    "    for i in range(n):\n",
    "        largest = max(lst)\n",
    "        largest_numbers.append(largest)\n",
    "        lst.remove(largest)\n",
    "    return largest_numbers\n",
    "\n",
    "my_list = [5, 2, 8, 1, 3, 9, 7]\n",
    "n = 3\n",
    "print(f\"The {n} largest numbers in {my_list} are: {find_n_largest(my_list, n)}\")\n"
   ]
  },
  {
   "cell_type": "markdown",
   "id": "043e5083",
   "metadata": {},
   "source": [
    "# 7. Write a Python program to print even numbers in a list?"
   ]
  },
  {
   "cell_type": "code",
   "execution_count": 8,
   "id": "dba42faf",
   "metadata": {},
   "outputs": [
    {
     "name": "stdout",
     "output_type": "stream",
     "text": [
      "Even numbers in the list are:  [2, 8]\n"
     ]
    }
   ],
   "source": [
    "def print_even_numbers(lst):\n",
    "    even_numbers = []\n",
    "    for elem in lst:\n",
    "        if elem % 2 == 0:\n",
    "            even_numbers.append(elem)\n",
    "    print(\"Even numbers in the list are: \", even_numbers)\n",
    "\n",
    "my_list = [5, 2, 8, 1, 3, 9, 7]\n",
    "print_even_numbers(my_list)\n"
   ]
  },
  {
   "cell_type": "markdown",
   "id": "ada33e2a",
   "metadata": {},
   "source": [
    "# 8. Write a Python program to print odd numbers in a List?"
   ]
  },
  {
   "cell_type": "code",
   "execution_count": 9,
   "id": "18ff0793",
   "metadata": {},
   "outputs": [
    {
     "name": "stdout",
     "output_type": "stream",
     "text": [
      "Odd numbers in the list are:  [5, 1, 3, 9, 7]\n"
     ]
    }
   ],
   "source": [
    "def print_odd_numbers(lst):\n",
    "    odd_numbers = []\n",
    "    for elem in lst:\n",
    "        if elem % 2 != 0:\n",
    "            odd_numbers.append(elem)\n",
    "    print(\"Odd numbers in the list are: \", odd_numbers)\n",
    "\n",
    "my_list = [5, 2, 8, 1, 3, 9, 7]\n",
    "print_odd_numbers(my_list)"
   ]
  },
  {
   "cell_type": "markdown",
   "id": "835461af",
   "metadata": {},
   "source": [
    "# 9. Write a Python program to Remove empty List from List?"
   ]
  },
  {
   "cell_type": "code",
   "execution_count": 10,
   "id": "57b0cfb7",
   "metadata": {},
   "outputs": [
    {
     "name": "stdout",
     "output_type": "stream",
     "text": [
      "[[1, 2, 3], [4, 5], [6]]\n"
     ]
    }
   ],
   "source": [
    "def remove_empty_lists(lst):\n",
    "    result = []\n",
    "    for elem in lst:\n",
    "        if elem:\n",
    "            result.append(elem)\n",
    "    return result\n",
    "\n",
    "my_list = [[], [1, 2, 3], [], [4, 5], [], [], [6]]\n",
    "new_list = remove_empty_lists(my_list)\n",
    "print(new_list)"
   ]
  },
  {
   "cell_type": "markdown",
   "id": "3c738718",
   "metadata": {},
   "source": [
    "# 10. Write a Python program to Cloning or Copying a list?"
   ]
  },
  {
   "cell_type": "code",
   "execution_count": 11,
   "id": "92d11c85",
   "metadata": {},
   "outputs": [
    {
     "name": "stdout",
     "output_type": "stream",
     "text": [
      "[1, 2, 3, 4, 5]\n"
     ]
    }
   ],
   "source": [
    "def clone_list(lst):\n",
    "\n",
    "    return lst.copy()\n",
    "\n",
    "my_list = [1, 2, 3, 4, 5]\n",
    "new_list = clone_list(my_list)\n",
    "print(new_list)"
   ]
  },
  {
   "cell_type": "markdown",
   "id": "39d02cae",
   "metadata": {},
   "source": [
    "# 11. Write a Python program to Count occurrences of an element in a list?"
   ]
  },
  {
   "cell_type": "code",
   "execution_count": 12,
   "id": "71a2b761",
   "metadata": {},
   "outputs": [
    {
     "name": "stdout",
     "output_type": "stream",
     "text": [
      "3\n"
     ]
    }
   ],
   "source": [
    "def count_occurrences(lst, elem):\n",
    "    return lst.count(elem)\n",
    "\n",
    "my_list = [1, 2, 3, 4, 5, 3, 2, 1, 1]\n",
    "count = count_occurrences(my_list, 1)\n",
    "print(count)\n"
   ]
  }
 ],
 "metadata": {
  "kernelspec": {
   "display_name": "Python 3 (ipykernel)",
   "language": "python",
   "name": "python3"
  },
  "language_info": {
   "codemirror_mode": {
    "name": "ipython",
    "version": 3
   },
   "file_extension": ".py",
   "mimetype": "text/x-python",
   "name": "python",
   "nbconvert_exporter": "python",
   "pygments_lexer": "ipython3",
   "version": "3.9.12"
  }
 },
 "nbformat": 4,
 "nbformat_minor": 5
}
