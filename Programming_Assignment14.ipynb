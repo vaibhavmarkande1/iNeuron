{
 "cells": [
  {
   "cell_type": "markdown",
   "id": "d767f88d",
   "metadata": {},
   "source": [
    "Question 1:\n",
    "Define a class with a generator which can iterate the numbers, which are divisible by\n",
    "7, between a given range 0 and n."
   ]
  },
  {
   "cell_type": "code",
   "execution_count": 2,
   "id": "653a757b",
   "metadata": {},
   "outputs": [
    {
     "name": "stdout",
     "output_type": "stream",
     "text": [
      "49\n",
      "42\n",
      "35\n",
      "28\n",
      "21\n",
      "14\n",
      "7\n"
     ]
    }
   ],
   "source": [
    "class DivisibleBySevenGenerator:\n",
    "    def __init__(self, n):\n",
    "        self.n = n\n",
    "\n",
    "    def __iter__(self):\n",
    "        return self\n",
    "\n",
    "    def __next__(self):\n",
    "        while self.n > 0:\n",
    "            if self.n % 7 == 0:\n",
    "                num = self.n\n",
    "                self.n -= 1\n",
    "                return num\n",
    "            self.n -= 1\n",
    "        raise StopIteration()\n",
    "\n",
    "n = 50\n",
    "generator = DivisibleBySevenGenerator(n)\n",
    "for num in generator:\n",
    "    print(num)"
   ]
  },
  {
   "cell_type": "markdown",
   "id": "db179e9c",
   "metadata": {},
   "source": [
    "Write a program to compute the frequency of the words from the input. The output\n",
    "should output after sorting the key alphanumerically.\n",
    "Suppose the following input is supplied to the program:\n",
    "New to Python or choosing between Python 2 and Python 3? Read Python 2 or\n",
    "Python 3.\n",
    "Then, the output should be:\n",
    "2:2\n",
    "3.:1\n",
    "3?:1\n",
    "New:1\n",
    "Python:5\n",
    "Read:1\n",
    "and:1\n",
    "between:1\n",
    "choosing:1\n",
    "or:2\n",
    "to:1"
   ]
  },
  {
   "cell_type": "code",
   "execution_count": 1,
   "id": "3ccae48e",
   "metadata": {},
   "outputs": [
    {
     "name": "stdout",
     "output_type": "stream",
     "text": [
      "2:2\n",
      "3.:1\n",
      "3?:1\n",
      "New:1\n",
      "Python:5\n",
      "Read:1\n",
      "and:1\n",
      "between:1\n",
      "choosing:1\n",
      "or:2\n",
      "to:1\n"
     ]
    }
   ],
   "source": [
    "from collections import defaultdict\n",
    "\n",
    "def word_frequency(input_str):\n",
    "    word_freq = defaultdict(int)  # Use defaultdict to initialize word frequencies to 0\n",
    "    words = input_str.split()  # Split input string into words\n",
    "\n",
    "    for word in words:\n",
    "        word_freq[word] += 1\n",
    "\n",
    "    sorted_word_freq = sorted(word_freq.items())\n",
    "\n",
    "    return sorted_word_freq\n",
    "\n",
    "input_str = \"New to Python or choosing between Python 2 and Python 3? Read Python 2 or Python 3.\"\n",
    "word_freq = word_frequency(input_str)\n",
    "for word, freq in word_freq:\n",
    "    print(f\"{word}:{freq}\")\n"
   ]
  },
  {
   "cell_type": "markdown",
   "id": "12439e97",
   "metadata": {},
   "source": [
    "Define a class Person and its two child classes: Male and Female. All classes have a\n",
    "method &quot;getGender&quot; which can print &quot;Male&quot; for Male class and &quot;Female&quot; for Female\n",
    "class."
   ]
  },
  {
   "cell_type": "code",
   "execution_count": 3,
   "id": "02c08341",
   "metadata": {},
   "outputs": [
    {
     "name": "stdout",
     "output_type": "stream",
     "text": [
      "John is Male\n",
      "Jane is Female\n"
     ]
    }
   ],
   "source": [
    "class Person:\n",
    "    def __init__(self, name):\n",
    "        self.name = name\n",
    "\n",
    "    def getGender(self):\n",
    "        raise NotImplementedError(\"getGender() must be implemented in child classes\")\n",
    "\n",
    "class Male(Person):\n",
    "    def getGender(self):\n",
    "        return \"Male\"\n",
    "\n",
    "class Female(Person):\n",
    "    def getGender(self):\n",
    "        return \"Female\"\n",
    "\n",
    "person1 = Male(\"John\")\n",
    "person2 = Female(\"Jane\")\n",
    "\n",
    "print(person1.name + \" is \" + person1.getGender())\n",
    "print(person2.name + \" is \" + person2.getGender())"
   ]
  },
  {
   "cell_type": "markdown",
   "id": "fbce1499",
   "metadata": {},
   "source": [
    "Please write a program to generate all sentences where subject is in [&quot;I&quot;, &quot;You&quot;] and\n",
    "verb is in [&quot;Play&quot;, &quot;Love&quot;] and the object is in [&quot;Hockey&quot;,&quot;Football&quot;]."
   ]
  },
  {
   "cell_type": "code",
   "execution_count": 4,
   "id": "61fb2a7d",
   "metadata": {},
   "outputs": [
    {
     "name": "stdout",
     "output_type": "stream",
     "text": [
      "I Play Hockey.\n",
      "I Play Football.\n",
      "I Love Hockey.\n",
      "I Love Football.\n",
      "You Play Hockey.\n",
      "You Play Football.\n",
      "You Love Hockey.\n",
      "You Love Football.\n"
     ]
    }
   ],
   "source": [
    "subjects = [\"I\", \"You\"]\n",
    "verbs = [\"Play\", \"Love\"]\n",
    "objects = [\"Hockey\", \"Football\"]\n",
    "\n",
    "sentences = []\n",
    "for subject in subjects:\n",
    "    for verb in verbs:\n",
    "        for obj in objects:\n",
    "            sentence = f\"{subject} {verb} {obj}.\"\n",
    "            sentences.append(sentence)\n",
    "\n",
    "for sentence in sentences:\n",
    "    print(sentence)"
   ]
  },
  {
   "cell_type": "markdown",
   "id": "0b5441e3",
   "metadata": {},
   "source": [
    "Please write a program to compress and decompress the string &quot;hello world!hello\n",
    "world!hello world!hello world!&quot;."
   ]
  },
  {
   "cell_type": "code",
   "execution_count": 5,
   "id": "0cadfab7",
   "metadata": {},
   "outputs": [
    {
     "name": "stdout",
     "output_type": "stream",
     "text": [
      "Original String:  hello world!hello world!hello world!hello world!\n",
      "Compressed String:  b'\\x1f\\x8b\\x08\\x00\\xf0D1d\\x02\\xff\\xcbH\\xcd\\xc9\\xc9W(\\xcf/\\xcaIQ\\xcc \\x82\\r\\x00\\xd3\\xe6\\xcf\\xae0\\x00\\x00\\x00'\n",
      "Decompressed String:  hello world!hello world!hello world!hello world!\n"
     ]
    }
   ],
   "source": [
    "import gzip\n",
    "\n",
    "input_str = \"hello world!hello world!hello world!hello world!\"\n",
    "\n",
    "compressed_data = gzip.compress(input_str.encode())\n",
    "\n",
    "decompressed_data = gzip.decompress(compressed_data).decode()\n",
    "\n",
    "print(\"Original String: \", input_str)\n",
    "print(\"Compressed String: \", compressed_data)\n",
    "print(\"Decompressed String: \", decompressed_data)"
   ]
  },
  {
   "cell_type": "markdown",
   "id": "3ea2426c",
   "metadata": {},
   "source": [
    "Please write a binary search function which searches an item in a sorted list. The\n",
    "function should return the index of element to be searched in the list."
   ]
  },
  {
   "cell_type": "code",
   "execution_count": 6,
   "id": "ecbd9a55",
   "metadata": {},
   "outputs": [
    {
     "name": "stdout",
     "output_type": "stream",
     "text": [
      "Item 7 found at index 3.\n"
     ]
    }
   ],
   "source": [
    "def binary_search(arr, item):\n",
    "\n",
    "    low = 0\n",
    "    high = len(arr) - 1\n",
    "\n",
    "    while low <= high:\n",
    "        mid = (low + high) // 2\n",
    "        guess = arr[mid]\n",
    "\n",
    "        if guess == item:\n",
    "            return mid\n",
    "        elif guess < item:\n",
    "            low = mid + 1\n",
    "        else:\n",
    "            high = mid - 1\n",
    "\n",
    "    return -1\n",
    "\n",
    "\n",
    "sorted_list = [1, 3, 5, 7, 9, 11, 13, 15, 17, 19]\n",
    "item_to_search = 7\n",
    "\n",
    "index = binary_search(sorted_list, item_to_search)\n",
    "if index != -1:\n",
    "    print(f\"Item {item_to_search} found at index {index}.\")\n",
    "else:\n",
    "    print(f\"Item {item_to_search} not found in the list.\")\n"
   ]
  }
 ],
 "metadata": {
  "kernelspec": {
   "display_name": "Python 3 (ipykernel)",
   "language": "python",
   "name": "python3"
  },
  "language_info": {
   "codemirror_mode": {
    "name": "ipython",
    "version": 3
   },
   "file_extension": ".py",
   "mimetype": "text/x-python",
   "name": "python",
   "nbconvert_exporter": "python",
   "pygments_lexer": "ipython3",
   "version": "3.9.12"
  }
 },
 "nbformat": 4,
 "nbformat_minor": 5
}
