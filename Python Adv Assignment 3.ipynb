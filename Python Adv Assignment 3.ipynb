{
 "cells": [
  {
   "cell_type": "markdown",
   "id": "132be231",
   "metadata": {},
   "source": [
    "# 1. What is the concept of an abstract superclass?"
   ]
  },
  {
   "cell_type": "markdown",
   "id": "bf895f2b",
   "metadata": {},
   "source": [
    "An abstract superclass is a class that provides a blueprint for other classes to inherit from. It cannot be instantiated directly but defines common attributes, behaviors, and methods that its subclasses can inherit and override. By using an abstract superclass, you can reuse code, enforce consistency, and create a structured class hierarchy. Subclasses extend the abstract superclass and provide implementations for any abstract methods defined in it."
   ]
  },
  {
   "cell_type": "code",
   "execution_count": null,
   "id": "89906af6",
   "metadata": {},
   "outputs": [],
   "source": []
  },
  {
   "cell_type": "markdown",
   "id": "dc253636",
   "metadata": {},
   "source": [
    "# 2. What happens when a class statement&#39;s top level contains a basic assignment statement?"
   ]
  },
  {
   "cell_type": "markdown",
   "id": "45db4e64",
   "metadata": {},
   "source": [
    "When a class statement's top level contains a basic assignment statement, it defines a class-level variable. This variable is shared among all instances of the class and holds data that is common to all objects created from the class. Modifying the class-level variable affects all instances of the class."
   ]
  },
  {
   "cell_type": "code",
   "execution_count": null,
   "id": "9bb4f22c",
   "metadata": {},
   "outputs": [],
   "source": []
  },
  {
   "cell_type": "markdown",
   "id": "de982242",
   "metadata": {},
   "source": [
    "# 3. Why does a class need to manually call a superclass&#39;s __init__ method?"
   ]
  },
  {
   "cell_type": "markdown",
   "id": "bfd28c22",
   "metadata": {},
   "source": [
    " class needs to manually call a superclass's __init__ method to ensure that the initialization logic of the superclass is executed.\n",
    "\n",
    "In object-oriented programming, when a class inherits from a superclass (also known as a parent class or base class), it inherits its attributes, methods, and behaviors. The __init__ method is a special method used for initializing the object's state when it is created.\n",
    "\n",
    "When a subclass defines its own __init__ method, it overrides the __init__ method of the superclass. However, it's often necessary to include the initialization logic from the superclass as well, to ensure that the inherited attributes and behaviors are properly initialized.\n",
    "\n",
    "By manually calling the superclass's __init__ method within the subclass's __init__ method, the subclass can leverage the initialization logic of the superclass. This allows for the proper initialization of inherited attributes and ensures that any necessary setup defined in the superclass is executed."
   ]
  },
  {
   "cell_type": "code",
   "execution_count": null,
   "id": "346c1a9f",
   "metadata": {},
   "outputs": [],
   "source": []
  },
  {
   "cell_type": "markdown",
   "id": "ce464c27",
   "metadata": {},
   "source": [
    "# 4. How can you augment, instead of completely replacing, an inherited method?"
   ]
  },
  {
   "cell_type": "markdown",
   "id": "49167a0a",
   "metadata": {},
   "source": [
    "To augment, or extend, an inherited method instead of completely replacing it, you can follow these steps:\n",
    "\n",
    "Define the subclass and its specific implementation of the method.\n",
    "Within the subclass's implementation, call the superclass's implementation of the method using the super() function.\n",
    "Perform any additional actions specific to the subclass.\n",
    "By calling the superclass's implementation using super(), you ensure that the original behavior of the inherited method is preserved while adding or modifying functionality specific to the subclass."
   ]
  },
  {
   "cell_type": "code",
   "execution_count": null,
   "id": "4e3cb569",
   "metadata": {},
   "outputs": [],
   "source": []
  },
  {
   "cell_type": "markdown",
   "id": "fcb945fe",
   "metadata": {},
   "source": [
    "# 5. How is the local scope of a class different from that of a function?"
   ]
  },
  {
   "cell_type": "markdown",
   "id": "448a03bd",
   "metadata": {},
   "source": [
    "The local scope of a class and that of a function differ in several ways:\n",
    "\n",
    "Variable Accessibility: In a class, variables defined within methods (including the constructor __init__) are accessible throughout the class. These variables are considered instance variables and can be accessed by other methods within the class using the self keyword. In contrast, in a function, variables defined within the function are only accessible within that function's scope. They cannot be accessed by other functions or code outside the function.\n",
    "\n",
    "Lifetime: Variables defined within a class's methods persist as long as the object (instance) of the class exists. They are tied to the instance and retain their values until the instance is destroyed. On the other hand, variables within a function have a limited lifetime and are created when the function is called and destroyed when the function execution is complete.\n",
    "\n",
    "Visibility: Class-level variables, defined outside of any method in the class, have a broader scope and are visible to all methods within the class. They can be accessed directly without the need for an instance of the class. In contrast, variables defined within a function are only visible within that function's scope and cannot be accessed from outside the function.\n",
    "\n",
    "Inheritance: In the context of inheritance, variables and methods defined in a superclass can be accessed by its subclasses, preserving their scope and accessibility. This allows subclasses to inherit and utilize the variables and methods of the superclass. In contrast, functions do not have a similar inheritance mechanism for their local variables.\n",
    "\n",
    "In summary, the local scope of a class and that of a function differ in terms of variable accessibility, lifetime, visibility, and the inheritance of variables and methods. The local scope of a class provides broader accessibility and persistence of variables within the class and its instances, allowing for more extensive sharing and utilization of data and methods within the class."
   ]
  }
 ],
 "metadata": {
  "kernelspec": {
   "display_name": "Python 3 (ipykernel)",
   "language": "python",
   "name": "python3"
  },
  "language_info": {
   "codemirror_mode": {
    "name": "ipython",
    "version": 3
   },
   "file_extension": ".py",
   "mimetype": "text/x-python",
   "name": "python",
   "nbconvert_exporter": "python",
   "pygments_lexer": "ipython3",
   "version": "3.9.12"
  }
 },
 "nbformat": 4,
 "nbformat_minor": 5
}
