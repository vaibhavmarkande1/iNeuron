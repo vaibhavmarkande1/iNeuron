{
 "cells": [
  {
   "cell_type": "markdown",
   "id": "dc131c9b",
   "metadata": {},
   "source": [
    "1. What is the result of the code, and why?\n",
    "&gt;&gt;&gt; def func(a, b=6, c=8):\n",
    "print(a, b, c)\n",
    "&gt;&gt;&gt; func(1, 2)"
   ]
  },
  {
   "cell_type": "markdown",
   "id": "db108f4f",
   "metadata": {},
   "source": [
    "The output of the code will be \"1 2 8\".\n",
    "The code defines a function named func() with three parameters a, b, and c, where the default values of b and c are 6 and 8 respectively. When the function is called with 1 and 2 as arguments, 1 is assigned to a and 2 is assigned to b, and c takes the default value of 8. The function then prints the values of a, b, and c, which are \"1 2 8\". Therefore, the output of the code is \"1 2 8\"."
   ]
  },
  {
   "cell_type": "code",
   "execution_count": null,
   "id": "71a0439e",
   "metadata": {},
   "outputs": [],
   "source": []
  },
  {
   "cell_type": "markdown",
   "id": "40d056e1",
   "metadata": {},
   "source": [
    "2. What is the result of this code, and why?\n",
    "&gt;&gt;&gt; def func(a, b, c=5):\n",
    "print(a, b, c)\n",
    "&gt;&gt;&gt; func(1, c=3, b=2)"
   ]
  },
  {
   "cell_type": "markdown",
   "id": "6ebe6882",
   "metadata": {},
   "source": [
    "The output of the code will be \"1 2 3\".\n",
    "The code defines a function named func() with three parameters a, b, and c, where the default value of c is 5. When func() is called with the arguments 1, c=3, and b=2, the values of a, b, and c are assigned 1, 2, and 3 respectively. The print() function is called within func(), which prints the values of the a, b, and c parameters to the console. The output of the code is \"1 2 3\"."
   ]
  },
  {
   "cell_type": "code",
   "execution_count": null,
   "id": "9e8bf731",
   "metadata": {},
   "outputs": [],
   "source": []
  },
  {
   "cell_type": "markdown",
   "id": "ec29b2d2",
   "metadata": {},
   "source": [
    "3. How about this code: what is its result, and why?\n",
    "&gt;&gt;&gt; def func(a, *pargs):\n",
    "print(a, pargs)\n",
    "&gt;&gt;&gt; func(1, 2, 3)"
   ]
  },
  {
   "cell_type": "markdown",
   "id": "a01553ce",
   "metadata": {},
   "source": [
    "The output of the code will be \"1 (2, 3)\".\n",
    "The code defines a function named func() with two parameters a and *pargs, where *pargs is a variable-length argument tuple used to collect any additional positional arguments. When func() is called with the arguments 1, 2, and 3, the value of 1 is assigned to a, and the remaining values are collected into a tuple and assigned to pargs. The print() function is called within func(), which prints the values of a and pargs to the console. The output of the code is \"1 (2, 3)\", where a is 1, and pargs is a tuple containing 2 and 3."
   ]
  },
  {
   "cell_type": "code",
   "execution_count": null,
   "id": "d8ae5e5e",
   "metadata": {},
   "outputs": [],
   "source": []
  },
  {
   "cell_type": "markdown",
   "id": "7bd3cb26",
   "metadata": {},
   "source": [
    "4. What does this code print, and why?\n",
    "&gt;&gt;&gt; def func(a, **kargs):\n",
    "print(a, kargs)\n",
    "&gt;&gt;&gt; func(a=1, c=3, b=2)"
   ]
  },
  {
   "cell_type": "markdown",
   "id": "34e801eb",
   "metadata": {},
   "source": [
    "The output of the code will be \"1 {'c': 3, 'b': 2}\".\n",
    "The code defines a function func() with two parameters: a and **kargs. The **kargs parameter is used to collect any additional keyword arguments that are passed to the function beyond the first one.\n",
    "\n",
    "When func() is called with the arguments a=1, c=3, and b=2, the value of 1 is assigned to the a parameter, and the remaining values are collected into a dictionary and assigned to the kargs parameter.\n",
    "\n",
    "The print() function is called within func(), which prints the values of the a and kargs parameters to the console.\n",
    "\n",
    "Therefore, the output of the code will be \"1 {'c': 3, 'b': 2}\". The value of a is 1, and kargs is a dictionary containing the remaining keyword arguments c=3 and b=2."
   ]
  },
  {
   "cell_type": "code",
   "execution_count": null,
   "id": "1bc3e07e",
   "metadata": {},
   "outputs": [],
   "source": []
  },
  {
   "cell_type": "markdown",
   "id": "bfcace26",
   "metadata": {},
   "source": [
    "5. What gets printed by this, and explain?\n",
    "&gt;&gt;&gt; def func(a, b, c=8, d=5): print(a, b, c, d)\n",
    "&gt;&gt;&gt; func(1, *(5, 6))"
   ]
  },
  {
   "cell_type": "markdown",
   "id": "bbafa0fd",
   "metadata": {},
   "source": [
    "The code defines a function func() with four parameters: a, b, c, and d. The parameters c and d have default values of 8 and 5, respectively. The print() function within func() is used to print the values of the parameters to the console.\n",
    "\n",
    "When func() is called with the arguments 1 and *(5,6), the first argument 1 is assigned to the a parameter, the next value 5 is assigned to the b parameter, and the remaining value 6 is ignored since there are no more positional parameters to assign it to.\n",
    "\n",
    "Therefore, the output of the code will be \"1 5 8 5\", since a is 1, b is 5, c is the default value of 8, and d is the default value of 5."
   ]
  },
  {
   "cell_type": "code",
   "execution_count": null,
   "id": "722e29b9",
   "metadata": {},
   "outputs": [],
   "source": []
  },
  {
   "cell_type": "markdown",
   "id": "a68af212",
   "metadata": {},
   "source": [
    "6. what is the result of this, and explain?\n",
    "&gt;&gt;&gt; def func(a, b, c): a = 2; b[0] = &#39;x&#39;; c[&#39;a&#39;] = &#39;y&#39;\n",
    "&gt;&gt;&gt; l=1; m=[1]; n={&#39;a&#39;:0}\n",
    "&gt;&gt;&gt; func(l, m, n)\n",
    "\n",
    "&gt;&gt;&gt; l, m, n"
   ]
  },
  {
   "cell_type": "markdown",
   "id": "e182b3a9",
   "metadata": {},
   "source": [
    "(1, ['x'], {'a': 'y'})\n",
    "\n",
    "In the given code, a function func is defined which takes three arguments a, b, and c. Inside the function, the value of a is set to 2, the first element of b is set to 'x', and the value corresponding to the key 'a' in the dictionary n is set to 'y'.\n",
    "\n",
    "Before calling the function, three variables l, m, and n are initialized to 1, [1], and {'a':0} respectively.\n",
    "\n",
    "When the function func is called with arguments l, m, and n, the variables l, m, and n are passed as references to the function. Hence, when the value of l is changed inside the function, it does not affect the value of the variable outside the function. However, since the list m and dictionary n are mutable, any changes made to them inside the function reflect outside the function.\n",
    "\n",
    "Therefore, after calling the function, the value of l remains 1, the first element of m is changed to 'x', and the value corresponding to the key 'a' in the dictionary n is changed to 'y'."
   ]
  }
 ],
 "metadata": {
  "kernelspec": {
   "display_name": "Python 3 (ipykernel)",
   "language": "python",
   "name": "python3"
  },
  "language_info": {
   "codemirror_mode": {
    "name": "ipython",
    "version": 3
   },
   "file_extension": ".py",
   "mimetype": "text/x-python",
   "name": "python",
   "nbconvert_exporter": "python",
   "pygments_lexer": "ipython3",
   "version": "3.9.12"
  }
 },
 "nbformat": 4,
 "nbformat_minor": 5
}
