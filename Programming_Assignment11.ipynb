{
 "cells": [
  {
   "cell_type": "markdown",
   "id": "53d111bc",
   "metadata": {},
   "source": [
    "# 1. Write a Python program to find words which are greater than given length k?"
   ]
  },
  {
   "cell_type": "code",
   "execution_count": 1,
   "id": "b5beab9e",
   "metadata": {},
   "outputs": [
    {
     "name": "stdout",
     "output_type": "stream",
     "text": [
      "['banana', 'orange', 'pineapple']\n"
     ]
    }
   ],
   "source": [
    "def find_long_words(words, k):\n",
    "\n",
    "    long_words = []\n",
    "    for word in words:\n",
    "        if len(word) > k:\n",
    "            long_words.append(word)\n",
    "    return long_words\n",
    "\n",
    "my_words = ['apple', 'banana', 'grape', 'orange', 'pineapple']\n",
    "long_words = find_long_words(my_words, 5)\n",
    "print(long_words)\n"
   ]
  },
  {
   "cell_type": "markdown",
   "id": "0ac9f574",
   "metadata": {},
   "source": [
    "# 2. Write a Python program for removing i-th character from a string?"
   ]
  },
  {
   "cell_type": "code",
   "execution_count": 2,
   "id": "7807bae9",
   "metadata": {},
   "outputs": [
    {
     "name": "stdout",
     "output_type": "stream",
     "text": [
      "Pyton\n"
     ]
    }
   ],
   "source": [
    "def remove_char(string, i):\n",
    "    if i < 0 or i >= len(string):\n",
    "        return string\n",
    "    else:\n",
    "        return string[:i] + string[i+1:]\n",
    "\n",
    "my_string = \"Python\"\n",
    "new_string = remove_char(my_string, 3)\n",
    "print(new_string)"
   ]
  },
  {
   "cell_type": "markdown",
   "id": "beb5fd18",
   "metadata": {},
   "source": [
    "# 3. Write a Python program to split and join a string?"
   ]
  },
  {
   "cell_type": "code",
   "execution_count": 3,
   "id": "4a265a19",
   "metadata": {},
   "outputs": [
    {
     "name": "stdout",
     "output_type": "stream",
     "text": [
      "Hello world!\n"
     ]
    }
   ],
   "source": [
    "def split_and_join(string, delimiter):\n",
    "    \n",
    "    split_string = string.split(delimiter)\n",
    "    new_string = \" \".join(split_string)\n",
    "    return new_string\n",
    "\n",
    "my_string = \"Hello,world!\"\n",
    "delimiter = \",\"\n",
    "new_string = split_and_join(my_string, delimiter)\n",
    "print(new_string)\n"
   ]
  },
  {
   "cell_type": "markdown",
   "id": "ab7098a9",
   "metadata": {},
   "source": [
    "# 4. Write a Python to check if a given string is binary string or not?"
   ]
  },
  {
   "cell_type": "code",
   "execution_count": 4,
   "id": "7a2bfb74",
   "metadata": {},
   "outputs": [
    {
     "name": "stdout",
     "output_type": "stream",
     "text": [
      "The string is a binary string.\n"
     ]
    }
   ],
   "source": [
    "def is_binary_string(string):\n",
    "\n",
    "    for char in string:\n",
    "        if char != '0' and char != '1':\n",
    "            return False\n",
    "    return True\n",
    "\n",
    "my_string = \"101011001\"\n",
    "if is_binary_string(my_string):\n",
    "    print(\"The string is a binary string.\")\n",
    "else:\n",
    "    print(\"The string is not a binary string.\")"
   ]
  },
  {
   "cell_type": "markdown",
   "id": "86a04fea",
   "metadata": {},
   "source": [
    "# 5. Write a Python program to find uncommon words from two Strings?"
   ]
  },
  {
   "cell_type": "code",
   "execution_count": 5,
   "id": "a0eab700",
   "metadata": {},
   "outputs": [
    {
     "name": "stdout",
     "output_type": "stream",
     "text": [
      "Uncommon words: {'lazy', 'over', 'quick', 'jumped', 'fox', 'dog', 'brown'}\n"
     ]
    }
   ],
   "source": [
    "def find_uncommon_words(string1, string2):\n",
    "    words1 = string1.split()\n",
    "    words2 = string2.split()\n",
    "    uncommon_words = set(words1).symmetric_difference(set(words2))\n",
    "    return uncommon_words\n",
    "\n",
    "string1 = \"the quick brown fox\"\n",
    "string2 = \"jumped over the lazy dog\"\n",
    "uncommon_words = find_uncommon_words(string1, string2)\n",
    "print(\"Uncommon words:\", uncommon_words)\n"
   ]
  },
  {
   "cell_type": "markdown",
   "id": "841be971",
   "metadata": {},
   "source": [
    "# 6. Write a Python to find all duplicate characters in string?"
   ]
  },
  {
   "cell_type": "code",
   "execution_count": 6,
   "id": "24857ddb",
   "metadata": {},
   "outputs": [
    {
     "name": "stdout",
     "output_type": "stream",
     "text": [
      "Duplicate characters: ['l', 'o']\n"
     ]
    }
   ],
   "source": [
    "def find_duplicate_chars(string):\n",
    "\n",
    "    duplicates = []\n",
    "    for char in string:\n",
    "        if string.count(char) > 1 and char not in duplicates:\n",
    "            duplicates.append(char)\n",
    "    return duplicates\n",
    "\n",
    "my_string = \"hello world\"\n",
    "duplicate_chars = find_duplicate_chars(my_string)\n",
    "print(\"Duplicate characters:\", duplicate_chars)\n"
   ]
  },
  {
   "cell_type": "markdown",
   "id": "1698c7b6",
   "metadata": {},
   "source": [
    "# 7. Write a Python Program to check if a string contains any special character?"
   ]
  },
  {
   "cell_type": "code",
   "execution_count": 7,
   "id": "98cf77a2",
   "metadata": {},
   "outputs": [
    {
     "name": "stdout",
     "output_type": "stream",
     "text": [
      "String contains special character.\n"
     ]
    }
   ],
   "source": [
    "import re\n",
    "\n",
    "def contains_special_char(string):\n",
    "    \n",
    "    pattern = re.compile('[^a-zA-Z0-9]')\n",
    "    return bool(pattern.search(string))\n",
    "\n",
    "\n",
    "my_string = \"Hello, world!\"\n",
    "if contains_special_char(my_string):\n",
    "    print(\"String contains special character.\")\n",
    "else:\n",
    "    print(\"String does not contain special character.\")\n"
   ]
  }
 ],
 "metadata": {
  "kernelspec": {
   "display_name": "Python 3 (ipykernel)",
   "language": "python",
   "name": "python3"
  },
  "language_info": {
   "codemirror_mode": {
    "name": "ipython",
    "version": 3
   },
   "file_extension": ".py",
   "mimetype": "text/x-python",
   "name": "python",
   "nbconvert_exporter": "python",
   "pygments_lexer": "ipython3",
   "version": "3.9.12"
  }
 },
 "nbformat": 4,
 "nbformat_minor": 5
}
